{
  "nbformat": 4,
  "nbformat_minor": 0,
  "metadata": {
    "colab": {
      "provenance": [],
      "collapsed_sections": [
        "CrE2V8a0XYre",
        "lvQnpcrfbO8W",
        "g9L1uNZ6Xc5B",
        "KM_5xCEWXftJ",
        "Zh4weFOFLlXV",
        "CannhZPjxnvd",
        "3xh2d3fpxxqO",
        "QavlS9ZN_2pf",
        "b-5Ec4PpVp-h",
        "Dsk9MiHxPJCK",
        "j9ULu-JKPXLw",
        "TCHT2laUPO0Y",
        "MPJPN2tBPvqi",
        "G_kK4wHwPZ9C",
        "Gg4m6u1gPhuR",
        "Jm3npGZDPzDy",
        "zWG1whu_RG_y",
        "9l3Sfw6rRPND",
        "g9s6O_daSVVj",
        "qOiERq6OSDyt",
        "kpPQmI_oSII1",
        "YhRZ51GqSMke",
        "CWnG_aBqTS1I",
        "EFH-gniaeVeo"
      ],
      "mount_file_id": "1mIjE1oJURifgldWgVbkE-Emwc6AV_wF2",
      "authorship_tag": "ABX9TyPlb3sdfLU5oyJ3g06fdEr/",
      "include_colab_link": true
    },
    "kernelspec": {
      "name": "python3",
      "display_name": "Python 3"
    },
    "language_info": {
      "name": "python"
    }
  },
  "cells": [
    {
      "cell_type": "markdown",
      "metadata": {
        "id": "view-in-github",
        "colab_type": "text"
      },
      "source": [
        "<a href=\"https://colab.research.google.com/github/idanh8/IoT_project_accelerometer_data/blob/main/IoT_Project.ipynb\" target=\"_parent\"><img src=\"https://colab.research.google.com/assets/colab-badge.svg\" alt=\"Open In Colab\"/></a>"
      ]
    },
    {
      "cell_type": "markdown",
      "source": [
        "# 1. Model for Predicting Activity Type - Training"
      ],
      "metadata": {
        "id": "CrE2V8a0XYre"
      }
    },
    {
      "cell_type": "markdown",
      "source": [
        "## Setup"
      ],
      "metadata": {
        "id": "lvQnpcrfbO8W"
      }
    },
    {
      "cell_type": "markdown",
      "source": [
        "### Imports"
      ],
      "metadata": {
        "id": "g9L1uNZ6Xc5B"
      }
    },
    {
      "cell_type": "code",
      "source": [
        "from google.colab import drive\n",
        "drive.mount('/content/drive')"
      ],
      "metadata": {
        "colab": {
          "base_uri": "https://localhost:8080/"
        },
        "id": "2r8wO7CWDQA-",
        "outputId": "7b47df62-f427-4cc3-e611-988aef30db36"
      },
      "execution_count": 121,
      "outputs": [
        {
          "output_type": "stream",
          "name": "stdout",
          "text": [
            "Drive already mounted at /content/drive; to attempt to forcibly remount, call drive.mount(\"/content/drive\", force_remount=True).\n"
          ]
        }
      ]
    },
    {
      "cell_type": "code",
      "execution_count": 164,
      "metadata": {
        "id": "P2fnAfWJCIlB"
      },
      "outputs": [],
      "source": [
        "import pandas as pd\n",
        "import numpy as np\n",
        "import zipfile\n",
        "import io\n",
        "import re\n",
        "from sklearn.ensemble import RandomForestClassifier\n",
        "import torch\n",
        "import torch.nn as nn\n",
        "import torch.optim as optim\n",
        "from torch.utils.data import DataLoader, TensorDataset, random_split\n",
        "from sklearn.preprocessing import MinMaxScaler\n",
        "from sklearn.metrics import accuracy_score, confusion_matrix, roc_curve, roc_auc_score, precision_score, recall_score\n",
        "from tqdm import tqdm\n",
        "import pickle\n",
        "import matplotlib.pyplot as plt\n",
        "import seaborn as sns"
      ]
    },
    {
      "cell_type": "code",
      "source": [
        "def norm(x, y, z):\n",
        "  return (x**2 + y**2 + z**2)**0.5"
      ],
      "metadata": {
        "id": "10WnGT2GlML7"
      },
      "execution_count": 123,
      "outputs": []
    },
    {
      "cell_type": "markdown",
      "source": [
        "### Data"
      ],
      "metadata": {
        "id": "KM_5xCEWXftJ"
      }
    },
    {
      "cell_type": "code",
      "source": [
        "zip_path = '/content/drive/MyDrive/University/data_set.zip'\n",
        "bad_eggs =[]\n",
        "count = 0\n",
        "datasets = {}\n",
        "current_group = 0\n",
        "current_person = 0\n",
        "with zipfile.ZipFile(zip_path, 'r') as z:\n",
        "   for file_name in z.namelist():\n",
        "    if file_name == '8_walk_4_3.csv':\n",
        "      continue\n",
        "    file_data = {}\n",
        "    count += 1\n",
        "    csv_data = z.read(file_name)\n",
        "\n",
        "    header = csv_data.decode().split('\\n')[:5]\n",
        "    header = [item.lower() for item in header]\n",
        "    header = [item.replace('\"', '') for item in header]\n",
        "    rows = csv_data.decode().split('\\n')[5:]\n",
        "    df = pd.read_csv(io.StringIO('\\n'.join(rows)))\n",
        "    activity = 0 if ('walk' in header[0] or 'walking' in header[2]) else 1\n",
        "    steps = int(header[3].split(',')[1])\n",
        "\n",
        "\n",
        "    file_data.update([('Name', file_name),('Data', df), ('Steps', steps), ('Activity', activity)])\n",
        "    exec(f\"datasets[{count-1}] = file_data\")\n",
        "print(f'There are {count} files in the dataset')"
      ],
      "metadata": {
        "colab": {
          "base_uri": "https://localhost:8080/"
        },
        "id": "s-V6pGRADMe7",
        "outputId": "d97f2c60-9345-4e7b-9fb7-28c32ee056f3"
      },
      "execution_count": 124,
      "outputs": [
        {
          "output_type": "stream",
          "name": "stdout",
          "text": [
            "There are 243 files in the dataset\n"
          ]
        }
      ]
    },
    {
      "cell_type": "code",
      "source": [
        "problems = ['11_walk_5_1.csv', '6_run_3_1.csv', '6_run_4_1.csv','11_walk_1_1.csv', '11_walk_2_1.csv', '11_walk_3_1.csv', '6_walk_5_1.csv']\n",
        "for dataset in datasets.values():\n",
        "  if dataset['Name'] in problems:\n",
        "    df = dataset['Data']\n",
        "    df = df.drop(0)\n",
        "    df = df.reset_index(drop=True)\n",
        "    dataset['Data'] = df\n",
        "  if dataset['Name'] == '16_run_3_1.csv':\n",
        "    df = dataset['Data']\n",
        "    df = df.drop(106)\n",
        "    df = df.reset_index(drop=True)\n",
        "    dataset['Data'] = df\n",
        "  if dataset['Name'] == '1_walk_4_1.csv':\n",
        "    df = dataset['Data']\n",
        "    df = df[:995]\n",
        "    df = df.reset_index(drop=True)\n",
        "    dataset['Data'] = df\n",
        "  if dataset['Name'] == '31_walk_2_1.csv':\n",
        "    df = dataset['Data']\n",
        "    df = df.drop(207)\n",
        "    df = df.reset_index(drop=True)\n",
        "    dataset['Data'] = df\n",
        "  if dataset['Name'] == '4_run_2_2.csv':\n",
        "    df = dataset['Data']\n",
        "    df = df.drop(185)\n",
        "    df = df.reset_index(drop=True)\n",
        "    dataset['Data'] = df\n",
        "  if dataset['Name'] == '4_walk_1_3.csv':\n",
        "    df = dataset['Data']\n",
        "    df = df.drop(368)\n",
        "    df = df.reset_index(drop=True)\n",
        "    dataset['Data'] = df\n",
        "  if dataset['Name'] == '4_walk_2_3.csv':\n",
        "    df = dataset['Data']\n",
        "    df = df.drop(95)\n",
        "    df = df.reset_index(drop=True)\n",
        "    dataset['Data'] = df\n",
        "  if dataset['Name'] == '4_walk_4_2.csv':\n",
        "    df = dataset['Data']\n",
        "    df = df.drop(599)\n",
        "    df = df.reset_index(drop=True)\n",
        "    dataset['Data'] = df\n",
        "  if dataset['Name'] == '4_walk_3_2.csv':\n",
        "    df = dataset['Data']\n",
        "    df = df.drop(39)\n",
        "    df = df.drop(41)\n",
        "    df = df.reset_index(drop=True)\n",
        "    dataset['Data'] = df\n",
        "  if dataset['Name'] == '5_run_3_1.csv':\n",
        "    df = dataset['Data']\n",
        "    df = df.drop(352)\n",
        "    df = df.reset_index(drop=True)\n",
        "    dataset['Data'] = df\n",
        "  if dataset['Name'] == '8_run_3_1.csv':\n",
        "    df = dataset['Data']\n",
        "    df = df.drop(264)\n",
        "    df = df.drop(605)\n",
        "    df = df.drop(606)\n",
        "    df = df.reset_index(drop=True)\n",
        "    dataset['Data'] = df\n",
        "  if dataset['Name'] == '8_run_3_1.csv':\n",
        "    df = dataset['Data']\n",
        "    df = df.drop(603)\n",
        "    df = df.drop(604)\n",
        "    df = df.drop(605)\n",
        "    df = df.reset_index(drop=True)\n",
        "    dataset['Data'] = df\n",
        "  df = dataset['Data']\n",
        "  df['Norm'] = df.apply(lambda row: norm(float(row[1]), float(row[2]), float(row[3])), axis =1)"
      ],
      "metadata": {
        "id": "61IFk1um77Sh"
      },
      "execution_count": 125,
      "outputs": []
    },
    {
      "cell_type": "code",
      "source": [
        "datasets[0]['Data']"
      ],
      "metadata": {
        "id": "VCAxKfvvjVyl",
        "colab": {
          "base_uri": "https://localhost:8080/",
          "height": 0
        },
        "outputId": "7e9c8d86-a0df-428b-a2a7-8e851d05c69f"
      },
      "execution_count": 126,
      "outputs": [
        {
          "output_type": "execute_result",
          "data": {
            "text/plain": [
              "     Time [sec]  ACC X  ACC Y  ACC Z       Norm\n",
              "0      0.000000  -9.14   3.37  -0.51   9.754824\n",
              "1      0.050049 -10.40   2.79  -0.35  10.773421\n",
              "2      0.100098  -9.34   2.39  -0.16   9.642266\n",
              "3      0.150024 -10.47   2.55   0.51  10.788118\n",
              "4      0.210083 -10.55   3.37  -0.31  11.079508\n",
              "..          ...    ...    ...    ...        ...\n",
              "227   11.580078 -10.98   3.77  -0.78  11.635364\n",
              "228   11.630005  -8.67   3.73  -1.02   9.493271\n",
              "229   11.680054  -9.10   3.53  -1.26   9.841672\n",
              "230   11.729980  -9.65   2.67  -1.18  10.081855\n",
              "231   11.780029 -10.79   2.90  -1.57  11.282686\n",
              "\n",
              "[232 rows x 5 columns]"
            ],
            "text/html": [
              "\n",
              "\n",
              "  <div id=\"df-22890dc4-2f87-4bbe-88cd-a5ea12e46bc4\">\n",
              "    <div class=\"colab-df-container\">\n",
              "      <div>\n",
              "<style scoped>\n",
              "    .dataframe tbody tr th:only-of-type {\n",
              "        vertical-align: middle;\n",
              "    }\n",
              "\n",
              "    .dataframe tbody tr th {\n",
              "        vertical-align: top;\n",
              "    }\n",
              "\n",
              "    .dataframe thead th {\n",
              "        text-align: right;\n",
              "    }\n",
              "</style>\n",
              "<table border=\"1\" class=\"dataframe\">\n",
              "  <thead>\n",
              "    <tr style=\"text-align: right;\">\n",
              "      <th></th>\n",
              "      <th>Time [sec]</th>\n",
              "      <th>ACC X</th>\n",
              "      <th>ACC Y</th>\n",
              "      <th>ACC Z</th>\n",
              "      <th>Norm</th>\n",
              "    </tr>\n",
              "  </thead>\n",
              "  <tbody>\n",
              "    <tr>\n",
              "      <th>0</th>\n",
              "      <td>0.000000</td>\n",
              "      <td>-9.14</td>\n",
              "      <td>3.37</td>\n",
              "      <td>-0.51</td>\n",
              "      <td>9.754824</td>\n",
              "    </tr>\n",
              "    <tr>\n",
              "      <th>1</th>\n",
              "      <td>0.050049</td>\n",
              "      <td>-10.40</td>\n",
              "      <td>2.79</td>\n",
              "      <td>-0.35</td>\n",
              "      <td>10.773421</td>\n",
              "    </tr>\n",
              "    <tr>\n",
              "      <th>2</th>\n",
              "      <td>0.100098</td>\n",
              "      <td>-9.34</td>\n",
              "      <td>2.39</td>\n",
              "      <td>-0.16</td>\n",
              "      <td>9.642266</td>\n",
              "    </tr>\n",
              "    <tr>\n",
              "      <th>3</th>\n",
              "      <td>0.150024</td>\n",
              "      <td>-10.47</td>\n",
              "      <td>2.55</td>\n",
              "      <td>0.51</td>\n",
              "      <td>10.788118</td>\n",
              "    </tr>\n",
              "    <tr>\n",
              "      <th>4</th>\n",
              "      <td>0.210083</td>\n",
              "      <td>-10.55</td>\n",
              "      <td>3.37</td>\n",
              "      <td>-0.31</td>\n",
              "      <td>11.079508</td>\n",
              "    </tr>\n",
              "    <tr>\n",
              "      <th>...</th>\n",
              "      <td>...</td>\n",
              "      <td>...</td>\n",
              "      <td>...</td>\n",
              "      <td>...</td>\n",
              "      <td>...</td>\n",
              "    </tr>\n",
              "    <tr>\n",
              "      <th>227</th>\n",
              "      <td>11.580078</td>\n",
              "      <td>-10.98</td>\n",
              "      <td>3.77</td>\n",
              "      <td>-0.78</td>\n",
              "      <td>11.635364</td>\n",
              "    </tr>\n",
              "    <tr>\n",
              "      <th>228</th>\n",
              "      <td>11.630005</td>\n",
              "      <td>-8.67</td>\n",
              "      <td>3.73</td>\n",
              "      <td>-1.02</td>\n",
              "      <td>9.493271</td>\n",
              "    </tr>\n",
              "    <tr>\n",
              "      <th>229</th>\n",
              "      <td>11.680054</td>\n",
              "      <td>-9.10</td>\n",
              "      <td>3.53</td>\n",
              "      <td>-1.26</td>\n",
              "      <td>9.841672</td>\n",
              "    </tr>\n",
              "    <tr>\n",
              "      <th>230</th>\n",
              "      <td>11.729980</td>\n",
              "      <td>-9.65</td>\n",
              "      <td>2.67</td>\n",
              "      <td>-1.18</td>\n",
              "      <td>10.081855</td>\n",
              "    </tr>\n",
              "    <tr>\n",
              "      <th>231</th>\n",
              "      <td>11.780029</td>\n",
              "      <td>-10.79</td>\n",
              "      <td>2.90</td>\n",
              "      <td>-1.57</td>\n",
              "      <td>11.282686</td>\n",
              "    </tr>\n",
              "  </tbody>\n",
              "</table>\n",
              "<p>232 rows × 5 columns</p>\n",
              "</div>\n",
              "      <button class=\"colab-df-convert\" onclick=\"convertToInteractive('df-22890dc4-2f87-4bbe-88cd-a5ea12e46bc4')\"\n",
              "              title=\"Convert this dataframe to an interactive table.\"\n",
              "              style=\"display:none;\">\n",
              "\n",
              "  <svg xmlns=\"http://www.w3.org/2000/svg\" height=\"24px\"viewBox=\"0 0 24 24\"\n",
              "       width=\"24px\">\n",
              "    <path d=\"M0 0h24v24H0V0z\" fill=\"none\"/>\n",
              "    <path d=\"M18.56 5.44l.94 2.06.94-2.06 2.06-.94-2.06-.94-.94-2.06-.94 2.06-2.06.94zm-11 1L8.5 8.5l.94-2.06 2.06-.94-2.06-.94L8.5 2.5l-.94 2.06-2.06.94zm10 10l.94 2.06.94-2.06 2.06-.94-2.06-.94-.94-2.06-.94 2.06-2.06.94z\"/><path d=\"M17.41 7.96l-1.37-1.37c-.4-.4-.92-.59-1.43-.59-.52 0-1.04.2-1.43.59L10.3 9.45l-7.72 7.72c-.78.78-.78 2.05 0 2.83L4 21.41c.39.39.9.59 1.41.59.51 0 1.02-.2 1.41-.59l7.78-7.78 2.81-2.81c.8-.78.8-2.07 0-2.86zM5.41 20L4 18.59l7.72-7.72 1.47 1.35L5.41 20z\"/>\n",
              "  </svg>\n",
              "      </button>\n",
              "\n",
              "\n",
              "\n",
              "    <div id=\"df-a860b132-a950-4243-aadd-4a40eb982868\">\n",
              "      <button class=\"colab-df-quickchart\" onclick=\"quickchart('df-a860b132-a950-4243-aadd-4a40eb982868')\"\n",
              "              title=\"Suggest charts.\"\n",
              "              style=\"display:none;\">\n",
              "\n",
              "<svg xmlns=\"http://www.w3.org/2000/svg\" height=\"24px\"viewBox=\"0 0 24 24\"\n",
              "     width=\"24px\">\n",
              "    <g>\n",
              "        <path d=\"M19 3H5c-1.1 0-2 .9-2 2v14c0 1.1.9 2 2 2h14c1.1 0 2-.9 2-2V5c0-1.1-.9-2-2-2zM9 17H7v-7h2v7zm4 0h-2V7h2v10zm4 0h-2v-4h2v4z\"/>\n",
              "    </g>\n",
              "</svg>\n",
              "      </button>\n",
              "    </div>\n",
              "\n",
              "<style>\n",
              "  .colab-df-quickchart {\n",
              "    background-color: #E8F0FE;\n",
              "    border: none;\n",
              "    border-radius: 50%;\n",
              "    cursor: pointer;\n",
              "    display: none;\n",
              "    fill: #1967D2;\n",
              "    height: 32px;\n",
              "    padding: 0 0 0 0;\n",
              "    width: 32px;\n",
              "  }\n",
              "\n",
              "  .colab-df-quickchart:hover {\n",
              "    background-color: #E2EBFA;\n",
              "    box-shadow: 0px 1px 2px rgba(60, 64, 67, 0.3), 0px 1px 3px 1px rgba(60, 64, 67, 0.15);\n",
              "    fill: #174EA6;\n",
              "  }\n",
              "\n",
              "  [theme=dark] .colab-df-quickchart {\n",
              "    background-color: #3B4455;\n",
              "    fill: #D2E3FC;\n",
              "  }\n",
              "\n",
              "  [theme=dark] .colab-df-quickchart:hover {\n",
              "    background-color: #434B5C;\n",
              "    box-shadow: 0px 1px 3px 1px rgba(0, 0, 0, 0.15);\n",
              "    filter: drop-shadow(0px 1px 2px rgba(0, 0, 0, 0.3));\n",
              "    fill: #FFFFFF;\n",
              "  }\n",
              "</style>\n",
              "\n",
              "    <script>\n",
              "      async function quickchart(key) {\n",
              "        const containerElement = document.querySelector('#' + key);\n",
              "        const charts = await google.colab.kernel.invokeFunction(\n",
              "            'suggestCharts', [key], {});\n",
              "      }\n",
              "    </script>\n",
              "\n",
              "      <script>\n",
              "\n",
              "function displayQuickchartButton(domScope) {\n",
              "  let quickchartButtonEl =\n",
              "    domScope.querySelector('#df-a860b132-a950-4243-aadd-4a40eb982868 button.colab-df-quickchart');\n",
              "  quickchartButtonEl.style.display =\n",
              "    google.colab.kernel.accessAllowed ? 'block' : 'none';\n",
              "}\n",
              "\n",
              "        displayQuickchartButton(document);\n",
              "      </script>\n",
              "      <style>\n",
              "    .colab-df-container {\n",
              "      display:flex;\n",
              "      flex-wrap:wrap;\n",
              "      gap: 12px;\n",
              "    }\n",
              "\n",
              "    .colab-df-convert {\n",
              "      background-color: #E8F0FE;\n",
              "      border: none;\n",
              "      border-radius: 50%;\n",
              "      cursor: pointer;\n",
              "      display: none;\n",
              "      fill: #1967D2;\n",
              "      height: 32px;\n",
              "      padding: 0 0 0 0;\n",
              "      width: 32px;\n",
              "    }\n",
              "\n",
              "    .colab-df-convert:hover {\n",
              "      background-color: #E2EBFA;\n",
              "      box-shadow: 0px 1px 2px rgba(60, 64, 67, 0.3), 0px 1px 3px 1px rgba(60, 64, 67, 0.15);\n",
              "      fill: #174EA6;\n",
              "    }\n",
              "\n",
              "    [theme=dark] .colab-df-convert {\n",
              "      background-color: #3B4455;\n",
              "      fill: #D2E3FC;\n",
              "    }\n",
              "\n",
              "    [theme=dark] .colab-df-convert:hover {\n",
              "      background-color: #434B5C;\n",
              "      box-shadow: 0px 1px 3px 1px rgba(0, 0, 0, 0.15);\n",
              "      filter: drop-shadow(0px 1px 2px rgba(0, 0, 0, 0.3));\n",
              "      fill: #FFFFFF;\n",
              "    }\n",
              "  </style>\n",
              "\n",
              "      <script>\n",
              "        const buttonEl =\n",
              "          document.querySelector('#df-22890dc4-2f87-4bbe-88cd-a5ea12e46bc4 button.colab-df-convert');\n",
              "        buttonEl.style.display =\n",
              "          google.colab.kernel.accessAllowed ? 'block' : 'none';\n",
              "\n",
              "        async function convertToInteractive(key) {\n",
              "          const element = document.querySelector('#df-22890dc4-2f87-4bbe-88cd-a5ea12e46bc4');\n",
              "          const dataTable =\n",
              "            await google.colab.kernel.invokeFunction('convertToInteractive',\n",
              "                                                     [key], {});\n",
              "          if (!dataTable) return;\n",
              "\n",
              "          const docLinkHtml = 'Like what you see? Visit the ' +\n",
              "            '<a target=\"_blank\" href=https://colab.research.google.com/notebooks/data_table.ipynb>data table notebook</a>'\n",
              "            + ' to learn more about interactive tables.';\n",
              "          element.innerHTML = '';\n",
              "          dataTable['output_type'] = 'display_data';\n",
              "          await google.colab.output.renderOutput(dataTable, element);\n",
              "          const docLink = document.createElement('div');\n",
              "          docLink.innerHTML = docLinkHtml;\n",
              "          element.appendChild(docLink);\n",
              "        }\n",
              "      </script>\n",
              "    </div>\n",
              "  </div>\n"
            ]
          },
          "metadata": {},
          "execution_count": 126
        }
      ]
    },
    {
      "cell_type": "markdown",
      "source": [
        "## Model"
      ],
      "metadata": {
        "id": "kEHAfGZ5j_Ei"
      }
    },
    {
      "cell_type": "markdown",
      "source": [
        "### Model Class\n",
        "\n",
        "> Takes small batches of data samples, for intergration in the **app**\n",
        "\n",
        "\n"
      ],
      "metadata": {
        "id": "NnDZtNvRzPxp"
      }
    },
    {
      "cell_type": "code",
      "source": [
        "class Model(nn.Module):\n",
        "    def __init__(self, input_size, output_size):\n",
        "        super(Model, self).__init__()\n",
        "        self.fc1 = nn.Linear(input_size, 16)\n",
        "        self.relu = nn.ReLU()\n",
        "        self.lrelu = nn.LeakyReLU()\n",
        "        self.fc2 = nn.Linear(16, 8)\n",
        "        self.fc3 = nn.Linear(8, output_size)\n",
        "        self.sigmoid = nn.Sigmoid()\n",
        "\n",
        "    def forward(self, x):\n",
        "        out = self.fc1(x)\n",
        "        out = self.relu(out)\n",
        "        out = self.fc2(out)\n",
        "        out = self.lrelu(out)\n",
        "        out = self.fc3(out)\n",
        "        out = self.sigmoid(out)\n",
        "        return out"
      ],
      "metadata": {
        "id": "HhtoXtPOOzQP"
      },
      "execution_count": 127,
      "outputs": []
    },
    {
      "cell_type": "markdown",
      "source": [
        "### Data Processing"
      ],
      "metadata": {
        "id": "Gw3sRwTfcdQY"
      }
    },
    {
      "cell_type": "code",
      "source": [
        "data_points = []\n",
        "targets = []\n",
        "for data in datasets.values():\n",
        "  df = data['Data']\n",
        "  steps = data['Steps']\n",
        "  act = data['Activity']\n",
        "  slices = np.arange(0, len(df), 7)\n",
        "  for sliver in slices:\n",
        "    if (sliver + 7) > len(df):\n",
        "      continue\n",
        "    sliver = df.loc[sliver:sliver+6]\n",
        "    acc = np.array(sliver.iloc[:, [1, 2, 3, 4]].values, dtype='float32')\n",
        "    flat = torch.tensor(acc.reshape(1, -1))\n",
        "    #count = torch.Tensor(np.repeat(steps, flat.shape[0]))\n",
        "    #final = torch.cat((flat, count.unsqueeze(1)), dim=1)\n",
        "    data_points.append(flat)\n",
        "    targets.append(act)"
      ],
      "metadata": {
        "id": "KkUVEZLz0fQU"
      },
      "execution_count": 130,
      "outputs": []
    },
    {
      "cell_type": "code",
      "source": [
        "stacked = torch.stack(data_points)\n",
        "label_tensor = torch.tensor(targets)\n",
        "dataset = TensorDataset(stacked, label_tensor)\n",
        "\n",
        "num_samples = len(dataset)\n",
        "num_train_samples = int(0.7 * num_samples)\n",
        "num_test_samples = int(0.15 * num_samples)\n",
        "num_eval_samples = num_samples - num_train_samples - num_test_samples\n",
        "train_dataset, test_dataset, eval_dataset = random_split(dataset, [num_train_samples, num_test_samples, num_eval_samples])"
      ],
      "metadata": {
        "id": "S9UVQOdD-N5B"
      },
      "execution_count": 131,
      "outputs": []
    },
    {
      "cell_type": "markdown",
      "source": [
        "### Model Training & Evaluation"
      ],
      "metadata": {
        "id": "c1DY7Y4rcj7x"
      }
    },
    {
      "cell_type": "code",
      "source": [
        "model = Model(stacked.shape[-1], 1)\n",
        "criterion = nn.BCELoss()\n",
        "optimizer = optim.Adam(model.parameters(), lr=0.001)\n",
        "\n",
        "batch_size = 250\n",
        "dataloader = DataLoader(train_dataset, batch_size=batch_size, shuffle=True)\n",
        "eval_dataloader = DataLoader(eval_dataset, batch_size=batch_size)\n",
        "test_dataloader = DataLoader(test_dataset, batch_size=batch_size)\n",
        "\n",
        "device = torch.device(\"cuda\" if torch.cuda.is_available() else \"cpu\")\n",
        "\n",
        "model.train()\n",
        "num_epochs = 200\n",
        "\n",
        "train_losses = []\n",
        "train_accuracies = []\n",
        "val_accuracies = []\n",
        "val_losses = []\n",
        "for epoch in range(num_epochs):\n",
        "    train_predictions = []\n",
        "    train_labels = []\n",
        "    for batch in dataloader:\n",
        "        batch_tensor, batch_labels = batch\n",
        "        batch_tensor = batch_tensor.to(device)\n",
        "        batch_labels = batch_labels.to(device)\n",
        "        output = model(batch_tensor)\n",
        "        target = batch_labels.view(output.size()).float()\n",
        "        loss = criterion(output, target)\n",
        "        optimizer.zero_grad()\n",
        "        loss.backward()\n",
        "        optimizer.step()\n",
        "        predicted_classes = torch.round(output).squeeze(dim=1)\n",
        "        train_predictions.extend(predicted_classes.tolist())\n",
        "        train_labels.extend(batch_labels.tolist())\n",
        "    accuracy = accuracy_score(train_labels, train_predictions)\n",
        "    train_losses.append(loss.item())\n",
        "    train_accuracies.append(accuracy)\n",
        "\n",
        "    model.eval()\n",
        "    with torch.no_grad():\n",
        "      eval_predictions = []\n",
        "      eval_labels = []\n",
        "      for batch in eval_dataloader:\n",
        "          batch_tensor, batch_labels = batch\n",
        "          batch_tensor = batch_tensor.to(device)\n",
        "          batch_labels = batch_labels.to(device)\n",
        "          output = model(batch_tensor)\n",
        "          target = batch_labels.view(output.size()).float()\n",
        "          loss = criterion(output, target)\n",
        "          predicted_classes = torch.round(output).squeeze(dim=1)\n",
        "          eval_predictions.extend(predicted_classes.tolist())\n",
        "          eval_labels.extend(batch_labels.tolist())\n",
        "      accuracy = accuracy_score(eval_labels, eval_predictions)\n",
        "      val_losses.append(loss.item())\n",
        "      val_accuracies.append(accuracy)\n",
        "      if (epoch+1)%10 == 0:\n",
        "        print(f\"Epoch [{epoch+1}/{num_epochs}], Loss: {round(loss.item(),4)}, Accuracy: {round(accuracy, 4)}\")"
      ],
      "metadata": {
        "colab": {
          "base_uri": "https://localhost:8080/"
        },
        "id": "TPG9wKOZRjrc",
        "outputId": "a54eba2c-d489-4c40-cd24-fd5a6a696d88"
      },
      "execution_count": 152,
      "outputs": [
        {
          "output_type": "stream",
          "name": "stdout",
          "text": [
            "Epoch [10/200], Loss: 0.1425, Accuracy: 0.9283\n",
            "Epoch [20/200], Loss: 0.124, Accuracy: 0.9347\n",
            "Epoch [30/200], Loss: 0.1159, Accuracy: 0.9375\n",
            "Epoch [40/200], Loss: 0.1335, Accuracy: 0.9347\n",
            "Epoch [50/200], Loss: 0.1482, Accuracy: 0.9384\n",
            "Epoch [60/200], Loss: 0.1342, Accuracy: 0.9356\n",
            "Epoch [70/200], Loss: 0.1369, Accuracy: 0.9398\n",
            "Epoch [80/200], Loss: 0.1265, Accuracy: 0.9378\n",
            "Epoch [90/200], Loss: 0.1324, Accuracy: 0.9364\n",
            "Epoch [100/200], Loss: 0.1348, Accuracy: 0.9395\n",
            "Epoch [110/200], Loss: 0.1349, Accuracy: 0.9395\n",
            "Epoch [120/200], Loss: 0.1449, Accuracy: 0.9395\n",
            "Epoch [130/200], Loss: 0.1543, Accuracy: 0.9347\n",
            "Epoch [140/200], Loss: 0.1491, Accuracy: 0.9358\n",
            "Epoch [150/200], Loss: 0.1553, Accuracy: 0.94\n",
            "Epoch [160/200], Loss: 0.1642, Accuracy: 0.937\n",
            "Epoch [170/200], Loss: 0.1699, Accuracy: 0.9412\n",
            "Epoch [180/200], Loss: 0.1667, Accuracy: 0.9395\n",
            "Epoch [190/200], Loss: 0.1768, Accuracy: 0.9384\n",
            "Epoch [200/200], Loss: 0.1676, Accuracy: 0.9426\n"
          ]
        }
      ]
    },
    {
      "cell_type": "code",
      "source": [
        "epochs = [i for i in range(1, num_epochs+1)]\n",
        "plt.plot(epochs, train_losses, label='Train')\n",
        "plt.plot(epochs, val_losses, label='Validation')\n",
        "plt.title('Loss Curves Over Time')\n",
        "plt.xlabel('Epochs')\n",
        "plt.ylabel('Loss')\n",
        "plt.legend()\n",
        "plt.show()"
      ],
      "metadata": {
        "colab": {
          "base_uri": "https://localhost:8080/",
          "height": 472
        },
        "id": "IkqVDLqDdbTb",
        "outputId": "7b9afd99-37c2-4831-dda8-51bd91f78345"
      },
      "execution_count": 155,
      "outputs": [
        {
          "output_type": "display_data",
          "data": {
            "text/plain": [
              "<Figure size 640x480 with 1 Axes>"
            ],
            "image/png": "[encoded data removed]"
          },
          "metadata": {}
        }
      ]
    },
    {
      "cell_type": "code",
      "source": [
        "plt.plot(epochs, train_accuracies, label='Train')\n",
        "plt.plot(epochs, val_accuracies, label='Validation')\n",
        "plt.title('Accuracy Curves Over Time')\n",
        "plt.xlabel('Epochs')\n",
        "plt.ylabel('Accuracy')\n",
        "plt.legend()\n",
        "plt.show()"
      ],
      "metadata": {
        "colab": {
          "base_uri": "https://localhost:8080/",
          "height": 472
        },
        "id": "_gk8dPHKriWX",
        "outputId": "910cc5de-7bcf-4d97-8bc9-af571b11dd42"
      },
      "execution_count": 154,
      "outputs": [
        {
          "output_type": "display_data",
          "data": {
            "text/plain": [
              "<Figure size 640x480 with 1 Axes>"
            ],
            "image/png": "[encoded data removed]"
          },
          "metadata": {}
        }
      ]
    },
    {
      "cell_type": "code",
      "source": [
        "model.eval()\n",
        "with torch.no_grad():\n",
        "  test_predictions = []\n",
        "  test_labels = []\n",
        "  for batch in test_dataloader:\n",
        "      batch_tensor, batch_labels = batch\n",
        "      batch_tensor = batch_tensor.to(device)\n",
        "      batch_labels = batch_labels.to(device)\n",
        "      output = model(batch_tensor)\n",
        "      predicted_classes = torch.round(output).squeeze(dim=1)\n",
        "      test_predictions.extend(predicted_classes.tolist())\n",
        "      test_labels.extend(batch_labels.tolist())\n",
        "  accuracy = accuracy_score(test_labels, test_predictions)\n",
        "  print(f\"Accuracy: {accuracy}\")"
      ],
      "metadata": {
        "colab": {
          "base_uri": "https://localhost:8080/"
        },
        "id": "hMVZuNbJiMaM",
        "outputId": "533412b2-f714-4dda-e9d4-dd38a81add93"
      },
      "execution_count": 156,
      "outputs": [
        {
          "output_type": "stream",
          "name": "stdout",
          "text": [
            "Accuracy: 0.9417040358744395\n"
          ]
        }
      ]
    },
    {
      "cell_type": "code",
      "source": [
        "matrix = confusion_matrix(test_labels, test_predictions)\n",
        "class_labels = ['Walking', 'Running']\n",
        "\n",
        "plt.figure(figsize=(4, 4))\n",
        "sns.heatmap(matrix, annot=True, fmt='d', cmap='Blues', xticklabels=class_labels, yticklabels=class_labels)\n",
        "plt.xlabel('Predicted')\n",
        "plt.ylabel('True')\n",
        "plt.title('Confusion Matrix')\n",
        "plt.show()"
      ],
      "metadata": {
        "colab": {
          "base_uri": "https://localhost:8080/",
          "height": 410
        },
        "id": "OGmiXTzCs8P1",
        "outputId": "cf921ad2-433b-40ec-c42d-8a34207fb4c1"
      },
      "execution_count": 160,
      "outputs": [
        {
          "output_type": "display_data",
          "data": {
            "text/plain": [
              "<Figure size 400x400 with 2 Axes>"
            ],
            "image/png": "[encoded data removed]"
          },
          "metadata": {}
        }
      ]
    },
    {
      "cell_type": "code",
      "source": [
        "precision = precision_score(test_labels, test_predictions)\n",
        "recall = recall_score(test_labels, test_predictions)\n",
        "\n",
        "print(f\"Precision: {precision:.2f}\")\n",
        "print(f\"Recall: {recall:.2f}\")"
      ],
      "metadata": {
        "colab": {
          "base_uri": "https://localhost:8080/"
        },
        "id": "ZbpXqkZnwKHZ",
        "outputId": "8802a05a-d64d-45f1-eca4-1fea73b65474"
      },
      "execution_count": 167,
      "outputs": [
        {
          "output_type": "stream",
          "name": "stdout",
          "text": [
            "Precision: 0.96\n",
            "Recall: 0.92\n"
          ]
        }
      ]
    },
    {
      "cell_type": "code",
      "source": [
        "fpr, tpr, _ = roc_curve(test_labels, test_predictions)\n",
        "auc = roc_auc_score(test_labels, test_predictions)\n",
        "\n",
        "plt.plot(fpr, tpr)\n",
        "plt.plot([0, 1], [0, 1], linestyle='--', color='gray')\n",
        "plt.xlabel('False Positive Rate')\n",
        "plt.ylabel('True Positive Rate')\n",
        "plt.title('ROC Curve (AUC = {:.2f})'.format(auc))\n",
        "plt.show()"
      ],
      "metadata": {
        "colab": {
          "base_uri": "https://localhost:8080/",
          "height": 472
        },
        "id": "GJ-YHl-gt__G",
        "outputId": "59a32068-e9d9-4ec6-c519-437114c9287c"
      },
      "execution_count": 163,
      "outputs": [
        {
          "output_type": "display_data",
          "data": {
            "text/plain": [
              "<Figure size 640x480 with 1 Axes>"
            ],
            "image/png": "[encoded data removed]"
          },
          "metadata": {}
        }
      ]
    },
    {
      "cell_type": "code",
      "source": [
        "with open(\"activity_net.pkl\", \"wb\") as f:\n",
        "  pickle.dump(model, f)"
      ],
      "metadata": {
        "id": "V5A9QVxP7Tdn"
      },
      "execution_count": null,
      "outputs": []
    },
    {
      "cell_type": "markdown",
      "source": [
        "### Train on all data"
      ],
      "metadata": {
        "id": "yGoVDXxQcNRo"
      }
    },
    {
      "cell_type": "code",
      "source": [
        "dataset = TensorDataset(stacked, label_tensor)\n",
        "model = Model(stacked.shape[-1], 1)\n",
        "criterion = nn.BCELoss()\n",
        "optimizer = optim.Adam(model.parameters(), lr=0.001)\n",
        "\n",
        "batch_size = 250\n",
        "dataloader = DataLoader(dataset, batch_size=batch_size, shuffle=True)\n",
        "device = torch.device(\"cuda\" if torch.cuda.is_available() else \"cpu\")\n",
        "\n",
        "model.train()\n",
        "num_epochs = 100\n",
        "\n",
        "\n",
        "for epoch in tqdm(range(num_epochs)):\n",
        "    for batch in dataloader:\n",
        "        batch_tensor, batch_labels = batch\n",
        "        batch_tensor = batch_tensor.to(device)\n",
        "        batch_labels = batch_labels.to(device)\n",
        "        output = model(batch_tensor)\n",
        "        target = batch_labels.view(output.size()).float()\n",
        "        loss = criterion(output, target)\n",
        "        optimizer.zero_grad()\n",
        "        loss.backward()\n",
        "        optimizer.step()"
      ],
      "metadata": {
        "id": "35izTCKCG2oj"
      },
      "execution_count": null,
      "outputs": []
    },
    {
      "cell_type": "code",
      "source": [
        "torch.set_printoptions(sci_mode=False, precision=7)\n",
        "for name, param in model.named_parameters():\n",
        "    if 'weight' in name:\n",
        "        print(f\"Weight matrix of layer {name}:\")\n",
        "        print(param.data)\n",
        "        print()\n",
        "    elif 'bias' in name:\n",
        "        print(f\"Bias Vector ({name}):\")\n",
        "        print(param.data)"
      ],
      "metadata": {
        "colab": {
          "base_uri": "https://localhost:8080/"
        },
        "id": "F83VW4xoHn12",
        "outputId": "b4603c62-9f25-47b0-df22-368a0c82e0cc"
      },
      "execution_count": null,
      "outputs": [
        {
          "output_type": "stream",
          "name": "stdout",
          "text": [
            "Weight matrix of layer fc1.weight:\n",
            "tensor([[     0.0604353,      0.0059299,     -0.2285128,      0.0387725,\n",
            "              0.1836419,     -0.0440568,     -0.0987561,      0.1902702,\n",
            "              0.2755782,     -0.1080983,     -0.0447831,      0.2472759,\n",
            "              0.3047139,     -0.0258612,     -0.2987202,      0.1815877,\n",
            "              0.1944320,     -0.2662191,     -0.1482775,      0.0448390,\n",
            "             -0.0074251,     -0.0211261,     -0.1505054,     -0.1415648,\n",
            "              0.4772506,     -0.2851114,      0.0358519,      0.2340990],\n",
            "        [    -0.4513517,     -0.3837094,     -0.4312678,      0.1421755,\n",
            "             -0.0818676,     -0.1450455,     -0.3768971,      0.1202434,\n",
            "             -0.0862693,     -0.0627197,     -0.0254138,     -0.0434969,\n",
            "             -0.1030149,      0.1308757,     -0.1767980,      0.0826210,\n",
            "             -0.5066044,     -0.2542349,     -0.4269018,     -0.0200893,\n",
            "             -0.2877821,      0.0829171,     -0.6340328,      0.0277386,\n",
            "             -0.2068399,      0.0483540,     -0.3296415,      0.1082633],\n",
            "        [     0.0883147,     -0.0784522,     -0.1301166,      0.1139077,\n",
            "             -0.0953075,      0.3111036,      0.1683336,      0.0957963,\n",
            "             -0.0790028,      0.0359851,      0.1536499,     -0.0413851,\n",
            "              0.0111401,     -0.1557326,     -0.2443148,      0.0312905,\n",
            "              0.0819428,     -0.2410861,     -0.4388602,      0.0085577,\n",
            "              0.2013311,      0.2069132,      0.0670170,      0.0404415,\n",
            "              0.0976739,     -0.1070593,      0.2157104,     -0.0891236],\n",
            "        [     0.0348135,      0.5008529,     -0.0484056,     -0.1639322,\n",
            "             -0.0654484,      0.2200101,     -0.0634660,     -0.0357477,\n",
            "              0.0683705,      0.0686241,      0.0173424,     -0.0003976,\n",
            "             -0.0626458,      0.3582009,     -0.0265432,     -0.0297411,\n",
            "              0.0332722,      0.5490323,      0.0052389,     -0.0959983,\n",
            "              0.1172713,      0.0816815,      0.1616089,     -0.1591561,\n",
            "              0.0586410,     -0.0391896,     -0.0243280,      0.0645338],\n",
            "        [     0.0340359,     -0.0147315,     -0.3327816,      0.0427577,\n",
            "             -0.2335636,     -0.2633535,     -0.2562028,      0.2756721,\n",
            "             -0.1288373,     -0.0622041,      0.1153958,      0.2661319,\n",
            "             -0.3211359,      0.0349330,     -0.0622071,      0.0909217,\n",
            "             -0.5679019,     -0.0784982,     -0.0562706,      0.2070660,\n",
            "             -0.2864886,     -0.1413536,      0.0202813,      0.0392833,\n",
            "              0.1318735,     -0.0794827,     -0.1196363,     -0.2260138],\n",
            "        [    -0.0074157,      0.1374191,      0.1418138,      0.2537668,\n",
            "             -0.1041104,     -0.1077165,      0.0705909,      0.0426161,\n",
            "              0.0530264,     -0.0299531,      0.2894367,      0.0188303,\n",
            "              0.0377289,      0.1512159,      0.2254299,      0.0827316,\n",
            "              0.2389669,     -0.0032568,      0.0410470,     -0.1924724,\n",
            "              0.1735418,     -0.0497032,      0.1712231,     -0.1547857,\n",
            "              0.1632637,      0.1279712,      0.3593383,     -0.1718953],\n",
            "        [    -0.2463489,     -0.2973438,      0.1833932,      0.1553872,\n",
            "             -0.0354933,     -0.1737680,      0.1510188,     -0.0275000,\n",
            "              0.1812207,      0.2872450,      0.0085039,      0.0398572,\n",
            "              0.2589927,     -0.0990480,      0.0589424,      0.0395463,\n",
            "              0.1200369,     -0.3251160,     -0.0680969,     -0.1880574,\n",
            "             -0.1723553,     -0.0043892,     -0.0580213,     -0.1366497,\n",
            "             -0.1477505,      0.4896609,      0.1055436,      0.0489737],\n",
            "        [     0.1412654,      0.4795248,      0.3366266,     -0.1005918,\n",
            "              0.0664875,      0.1471184,     -0.1367335,     -0.1261604,\n",
            "             -0.0642410,     -0.2648016,     -0.3139067,     -0.0273199,\n",
            "              0.0826978,     -0.1455742,      0.0947414,      0.0551033,\n",
            "              0.1839725,     -0.0145933,      0.0289803,     -0.1284765,\n",
            "             -0.1301989,      0.0986009,      0.0343954,      0.1605405,\n",
            "             -0.1816466,     -0.0743582,      0.1083642,      0.2781141],\n",
            "        [     0.0692504,     -0.0690090,      0.2208543,      0.1509521,\n",
            "             -0.0845060,     -0.3655368,     -0.0464818,     -0.1124770,\n",
            "             -0.0191946,      0.0510047,      0.1111046,     -0.0302606,\n",
            "              0.0950157,      0.6709308,      0.2801914,     -0.4334974,\n",
            "              0.0201730,      0.0045109,     -0.1834660,     -0.0536182,\n",
            "              0.1399116,     -0.1744444,     -0.2164810,      0.0378368,\n",
            "              0.0258983,     -0.0793702,     -0.0184750,     -0.0325036],\n",
            "        [     0.3783134,     -0.0271229,     -0.0573712,     -0.0677182,\n",
            "              0.5525904,     -0.0976070,      0.0290918,      0.0304146,\n",
            "              0.4480636,     -0.1894649,     -0.0661505,      0.0029621,\n",
            "              0.3884443,      0.0081880,     -0.0844383,     -0.0763481,\n",
            "              0.3380696,     -0.0283363,     -0.0765783,     -0.0600035,\n",
            "              0.3908685,     -0.1207079,     -0.0893111,     -0.1340557,\n",
            "              0.2881128,     -0.0986956,     -0.1474613,     -0.1117392],\n",
            "        [    -0.0403930,      0.2228880,     -0.1850442,      0.1125675,\n",
            "              0.1981038,      0.0420071,      0.0868664,     -0.0128957,\n",
            "              0.3849331,     -0.1973994,      0.0868875,     -0.2430239,\n",
            "             -0.0715846,      0.1156734,     -0.3073666,     -0.0185654,\n",
            "             -0.1695070,      0.0627884,      0.0126587,      0.2076577,\n",
            "             -0.1239191,     -0.2106754,      0.1586882,      0.0348612,\n",
            "              0.0780491,      0.0262665,      0.0403885,     -0.0541363],\n",
            "        [     0.0197534,      0.0606505,     -0.0160577,     -0.0128047,\n",
            "              0.0432148,     -0.1247149,     -0.0997319,      0.1421670,\n",
            "             -0.0174610,      0.0844526,     -0.0160329,      0.1470871,\n",
            "             -0.0148113,      0.2051286,      0.1507500,      0.1433525,\n",
            "              0.1165458,     -0.1841868,      0.1610879,      0.0912770,\n",
            "              0.2287868,     -0.2804816,     -0.4361395,     -0.2919559,\n",
            "             -0.0324173,      0.1918225,     -0.1168336,     -0.1987995],\n",
            "        [    -0.2000564,      0.0101850,     -0.0307133,      0.1308442,\n",
            "             -0.2122416,     -0.0630320,      0.1445999,     -0.0778465,\n",
            "              0.0081884,     -0.1391772,     -0.0214894,     -0.1036833,\n",
            "              0.1420398,      0.1563750,     -0.2103892,      0.2725812,\n",
            "              0.3062702,      0.5047150,      0.1008700,      0.0955992,\n",
            "              0.2249610,      0.0983774,      0.2440080,     -0.2333362,\n",
            "              0.0201710,     -0.2274517,     -0.1541707,      0.0067168],\n",
            "        [    -0.0261604,     -0.2544605,      0.0730666,      0.1897581,\n",
            "              0.1004623,      0.0630483,     -0.1590293,      0.0784464,\n",
            "              0.3271852,     -0.1555382,      0.0704437,      0.0848945,\n",
            "              0.2927313,     -0.3164077,      0.1658053,     -0.2064647,\n",
            "             -0.5353040,      0.1975002,     -0.2615868,     -0.1775758,\n",
            "             -0.2364792,      0.3008668,     -0.1438662,     -0.0359557,\n",
            "             -0.0237669,     -0.1817673,     -0.2801400,     -0.0276627],\n",
            "        [     0.0471661,      0.1078748,     -0.1386792,     -0.0932025,\n",
            "              0.0152915,     -0.1231389,     -0.2958184,      0.1788418,\n",
            "              0.1315676,     -0.0049791,      0.1113826,      0.2038763,\n",
            "             -0.0188995,      0.0959088,      0.1645344,     -0.0598439,\n",
            "             -0.1341210,      0.1780083,     -0.0317721,     -0.0573733,\n",
            "             -0.0010475,     -0.0208850,     -0.1698349,      0.0534578,\n",
            "              0.1108166,     -0.0798065,      0.0200401,      0.1570906],\n",
            "        [     0.2774906,     -0.3334804,     -0.1562631,     -0.3463078,\n",
            "              0.4152234,     -0.0468715,      0.1608890,      0.0153797,\n",
            "             -0.0291778,      0.1267979,     -0.1694280,      0.0604921,\n",
            "             -0.2119445,      0.0084136,     -0.0432698,      0.0424273,\n",
            "             -0.0418458,     -0.0217076,      0.2138584,      0.0312109,\n",
            "             -0.0982424,     -0.0232426,      0.1174438,      0.0975126,\n",
            "              0.0896706,      0.0052848,     -0.3776868,      0.0269989]])\n",
            "\n",
            "Bias Vector (fc1.bias):\n",
            "tensor([ 1.0999961,  0.3543088, -0.5454383,  0.6766526,  0.8088120,  0.1813376,\n",
            "        -0.1263999, -0.2359277, -0.0212954,  0.8412574, -1.0094624, -1.2413485,\n",
            "        -0.3854460, -0.4574386, -1.5370051, -0.7619852])\n",
            "Weight matrix of layer fc2.weight:\n",
            "tensor([[-0.0682427,  0.2350752, -0.0224881, -0.4302990, -0.0993900,  0.1027374,\n",
            "          0.0502057, -0.2963941,  0.4383874, -0.2553620, -0.0184516, -0.2042270,\n",
            "          0.1505892,  0.0035655,  0.0703204,  0.2645463],\n",
            "        [ 0.3463580,  0.1936742, -0.3238005, -0.0328391, -0.0793591,  0.1657667,\n",
            "          0.0132946, -0.0711008,  0.1755712, -0.0708221,  0.2186199, -0.2764714,\n",
            "         -0.2312069,  0.4195673, -0.2582533, -0.0200930],\n",
            "        [ 0.3707823, -0.0709999,  0.2383518, -0.1380792, -0.3442066, -0.2227293,\n",
            "          0.3435367,  0.1760676,  0.4648896, -0.6966237,  0.2853220,  0.3250047,\n",
            "          0.2412719,  0.4916617,  0.1101845,  0.3237804],\n",
            "        [-0.1684619, -0.6871871, -0.2690644, -0.2537631, -0.4155053,  0.0434441,\n",
            "          0.3226951, -0.2082927,  0.1379596,  0.3440458,  0.2285670,  0.3843603,\n",
            "         -0.1557427, -0.1062790, -0.0470128, -0.0058275],\n",
            "        [-0.1544513, -0.1140997,  0.4374229, -0.4323693,  0.0735237, -0.0545869,\n",
            "          0.4278233,  0.4963441,  0.2332312, -0.1710786,  0.5052412,  0.4759608,\n",
            "          0.2692796,  0.4432887,  0.1681595,  0.4673581],\n",
            "        [ 0.0181650, -0.5925455,  0.2047388, -0.2969497,  0.4375208,  0.0862168,\n",
            "          0.3627538,  0.2933644,  0.3521441,  0.2081973, -0.0961936,  0.0647071,\n",
            "          0.4884225,  0.2741335,  0.2023327,  0.0212697],\n",
            "        [ 0.2049424,  0.0681562, -0.2454323,  0.4148648,  0.0340762,  0.1725700,\n",
            "         -0.0723926, -0.0896207, -0.5130637,  0.2932262, -0.4618080, -0.6767524,\n",
            "         -0.1866467,  0.3401199, -0.6087148, -0.2207565],\n",
            "        [ 0.1167770, -0.3921254, -0.1704994,  0.1488474, -0.2196181,  0.2867340,\n",
            "          0.1564836,  0.0956001,  0.1802378,  0.1051338, -0.3841262, -0.3882023,\n",
            "          0.1984871,  0.1938699, -0.4186369, -0.4856442]])\n",
            "\n",
            "Bias Vector (fc2.bias):\n",
            "tensor([-1.6104500,  1.2618737, -0.3669770,  0.1768908, -0.5814009, -0.0745478,\n",
            "         0.7270499,  0.3505812])\n",
            "Weight matrix of layer fc3.weight:\n",
            "tensor([[ 0.7404440, -0.3074177,  1.0595958, -0.7426177,  0.6785147,  0.6782292,\n",
            "         -0.6680332, -0.6083406]])\n",
            "\n",
            "Bias Vector (fc3.bias):\n",
            "tensor([-1.0693458])\n"
          ]
        }
      ]
    },
    {
      "cell_type": "markdown",
      "source": [
        "### Testing for single tensors"
      ],
      "metadata": {
        "id": "raIg4xM-cGTy"
      }
    },
    {
      "cell_type": "code",
      "source": [
        "model = pickle.load(open('activity_net.pkl', 'rb'))\n",
        "test_tensor = torch.tensor([[ 1, -0.2,  -5.8099999,  -0.333,  -3.4500000,\n",
        "           -5.3000002,   2.3099999,   6.7326517,  -0.2400000,  -4.0799999,\n",
        "            1.6900001,   4.4226804,   1.1799999,  -0.2400000,  -1.9600000,\n",
        "            2.3003478,   3.2200000,   1.6900001,  -3.7300000,   5.2093568,\n",
        "            2.4700000,   0.8600000,  0.1,   6.1173034,  -3.3699999,\n",
        "           -1.7300000,  -2.3900001,   4.4790511]]).to(torch.float32)\n",
        "test_label = torch.tensor([1])\n",
        "t_dataset = TensorDataset(test_tensor, test_label)\n",
        "t_dataloader = DataLoader(t_dataset, batch_size=1)\n",
        "model.eval()\n",
        "with torch.no_grad():\n",
        "  test_predictions = []\n",
        "  test_labels = []\n",
        "  for batch in t_dataloader:\n",
        "      batch_tensor, batch_labels = batch\n",
        "      batch_tensor = batch_tensor.to(device)\n",
        "      batch_labels = batch_labels.to(device)\n",
        "      output = model(batch_tensor)\n",
        "      print(output)\n",
        "      predicted_classes = torch.round(output).squeeze(dim=1)\n",
        "      test_predictions.extend(predicted_classes.tolist())\n",
        "      test_labels.extend(batch_labels.tolist())\n",
        "  accuracy = accuracy_score(test_labels, test_predictions)\n",
        "  print(f\"Accuracy: {accuracy}\")"
      ],
      "metadata": {
        "colab": {
          "base_uri": "https://localhost:8080/"
        },
        "id": "A2nZk7OGQX4L",
        "outputId": "aab47df4-9427-4b78-af13-1926dafe9203"
      },
      "execution_count": null,
      "outputs": [
        {
          "output_type": "stream",
          "name": "stdout",
          "text": [
            "FC1: tensor([[ 5.7816715,  4.6327167,  1.9491143, -0.6903415,  5.5383663, -2.2793076,\n",
            "         -3.4852827, -1.5026067, -0.8206928,  1.5749328, -0.9273030, -2.0477343,\n",
            "          3.5862856, -1.7270983,  1.4175705, -0.4509810]])\n",
            "ReLu: tensor([[5.7816715, 4.6327167, 1.9491143, 0.0000000, 5.5383663, 0.0000000,\n",
            "         0.0000000, 0.0000000, 0.0000000, 1.5749328, 0.0000000, 0.0000000,\n",
            "         3.5862856, 0.0000000, 1.4175705, 0.0000000]])\n",
            "FC2: tensor([[-1.2726983,  1.7841893, -0.0695964, -6.8896341,  0.1914634,  2.4739311,\n",
            "          0.8676058, -2.0555439]])\n",
            "LRelu: tensor([[    -0.0127270,      1.7841893,     -0.0006960,     -0.0688963,\n",
            "              0.1914634,      2.4739311,      0.8676058,     -0.0205554]])\n",
            "FC3: tensor([[-0.3361164]])\n",
            "Sigmoid: tensor([[0.4167532]])\n",
            "tensor([[0.4167532]])\n",
            "Accuracy: 0.0\n"
          ]
        }
      ]
    },
    {
      "cell_type": "markdown",
      "source": [
        "# 2. Model for Predicting Activity Type\n",
        "\n",
        "> Takes full dataframe, as required for the project\n",
        "\n",
        "\n"
      ],
      "metadata": {
        "id": "Zh4weFOFLlXV"
      }
    },
    {
      "cell_type": "markdown",
      "source": [
        "## Imports and Setup"
      ],
      "metadata": {
        "id": "CannhZPjxnvd"
      }
    },
    {
      "cell_type": "code",
      "source": [
        "import pandas as pd\n",
        "import numpy as np\n",
        "import zipfile\n",
        "import io\n",
        "import re\n",
        "from sklearn.ensemble import RandomForestClassifier\n",
        "import torch\n",
        "import torch.nn as nn\n",
        "import torch.optim as optim\n",
        "from torch.utils.data import DataLoader, TensorDataset, random_split\n",
        "from sklearn.preprocessing import MinMaxScaler\n",
        "from sklearn.metrics import accuracy_score\n",
        "from tqdm import tqdm\n",
        "import pickle\n",
        "import matplotlib.pyplot as plt"
      ],
      "metadata": {
        "id": "MBwd0oJexWI0"
      },
      "execution_count": null,
      "outputs": []
    },
    {
      "cell_type": "markdown",
      "source": [
        "## Utility Functions"
      ],
      "metadata": {
        "id": "3xh2d3fpxxqO"
      }
    },
    {
      "cell_type": "code",
      "source": [
        "def norm(x, y, z):\n",
        "  return (x**2 + y**2 + z**2)**0.5"
      ],
      "metadata": {
        "id": "EGEBtjIZxuhW"
      },
      "execution_count": null,
      "outputs": []
    },
    {
      "cell_type": "code",
      "source": [
        "def process_raw(zip_path):\n",
        "  count = 0\n",
        "  datasets = {}\n",
        "  with zipfile.ZipFile(zip_path, 'r') as z:\n",
        "    for file_name in z.namelist():\n",
        "      if file_name == '8_walk_4_3.csv':\n",
        "        continue\n",
        "      file_data = {}\n",
        "      count += 1\n",
        "      csv_data = z.read(file_name)\n",
        "\n",
        "      header = csv_data.decode().split('\\n')[:5]\n",
        "      header = [item.lower() for item in header]\n",
        "      header = [item.replace('\"', '') for item in header]\n",
        "      rows = csv_data.decode().split('\\n')[5:]\n",
        "      df = pd.read_csv(io.StringIO('\\n'.join(rows)))\n",
        "      activity = 0 if ('walk' in header[0] or 'walking' in header[2]) else 1\n",
        "      steps = int(header[3].split(',')[1])\n",
        "\n",
        "\n",
        "      file_data.update([('Name', file_name),('Data', df), ('Steps', steps), ('Activity', activity)])\n",
        "      exec(f\"datasets[{count-1}] = file_data\")\n",
        "  print(f'There are {count} files in the dataset')\n",
        "  problems = ['11_walk_5_1.csv', '6_run_3_1.csv', '6_run_4_1.csv','11_walk_1_1.csv', '11_walk_2_1.csv', '11_walk_3_1.csv', '6_walk_5_1.csv']\n",
        "  for dataset in datasets.values():\n",
        "    if dataset['Name'] in problems:\n",
        "      df = dataset['Data']\n",
        "      df = df.drop(0)\n",
        "      df = df.reset_index(drop=True)\n",
        "      dataset['Data'] = df\n",
        "    if dataset['Name'] == '16_run_3_1.csv':\n",
        "      df = dataset['Data']\n",
        "      df = df.drop(106)\n",
        "      df = df.reset_index(drop=True)\n",
        "      dataset['Data'] = df\n",
        "    if dataset['Name'] == '1_walk_4_1.csv':\n",
        "      df = dataset['Data']\n",
        "      df = df[:995]\n",
        "      df = df.reset_index(drop=True)\n",
        "      dataset['Data'] = df\n",
        "    if dataset['Name'] == '31_walk_2_1.csv':\n",
        "      df = dataset['Data']\n",
        "      df = df.drop(207)\n",
        "      df = df.reset_index(drop=True)\n",
        "      dataset['Data'] = df\n",
        "    if dataset['Name'] == '4_run_2_2.csv':\n",
        "      df = dataset['Data']\n",
        "      df = df.drop(185)\n",
        "      df = df.reset_index(drop=True)\n",
        "      dataset['Data'] = df\n",
        "    if dataset['Name'] == '4_walk_1_3.csv':\n",
        "      df = dataset['Data']\n",
        "      df = df.drop(368)\n",
        "      df = df.reset_index(drop=True)\n",
        "      dataset['Data'] = df\n",
        "    if dataset['Name'] == '4_walk_2_3.csv':\n",
        "      df = dataset['Data']\n",
        "      df = df.drop(95)\n",
        "      df = df.reset_index(drop=True)\n",
        "      dataset['Data'] = df\n",
        "    if dataset['Name'] == '4_walk_4_2.csv':\n",
        "      df = dataset['Data']\n",
        "      df = df.drop(599)\n",
        "      df = df.reset_index(drop=True)\n",
        "      dataset['Data'] = df\n",
        "    if dataset['Name'] == '4_walk_3_2.csv':\n",
        "      df = dataset['Data']\n",
        "      df = df.drop(39)\n",
        "      df = df.drop(41)\n",
        "      df = df.reset_index(drop=True)\n",
        "      dataset['Data'] = df\n",
        "    if dataset['Name'] == '5_run_3_1.csv':\n",
        "      df = dataset['Data']\n",
        "      df = df.drop(352)\n",
        "      df = df.reset_index(drop=True)\n",
        "      dataset['Data'] = df\n",
        "    if dataset['Name'] == '8_run_3_1.csv':\n",
        "      df = dataset['Data']\n",
        "      df = df.drop(264)\n",
        "      df = df.drop(605)\n",
        "      df = df.drop(606)\n",
        "      df = df.reset_index(drop=True)\n",
        "      dataset['Data'] = df\n",
        "    if dataset['Name'] == '8_run_3_1.csv':\n",
        "      df = dataset['Data']\n",
        "      df = df.drop(603)\n",
        "      df = df.drop(604)\n",
        "      df = df.drop(605)\n",
        "      df = df.reset_index(drop=True)\n",
        "      dataset['Data'] = df\n",
        "    df = dataset['Data']\n",
        "    df['Norm'] = df.apply(lambda row: norm(float(row[1]), float(row[2]), float(row[3])), axis =1)\n",
        "  return datasets"
      ],
      "metadata": {
        "id": "BHlCiLEGWmbD"
      },
      "execution_count": null,
      "outputs": []
    },
    {
      "cell_type": "code",
      "source": [
        "class Model(nn.Module):\n",
        "    def __init__(self, input_size, output_size):\n",
        "        super(Model, self).__init__()\n",
        "        self.fc1 = nn.Linear(input_size, 16)\n",
        "        self.relu = nn.ReLU()\n",
        "        self.lrelu = nn.LeakyReLU()\n",
        "        self.fc2 = nn.Linear(16, 8)\n",
        "        self.fc3 = nn.Linear(8, output_size)\n",
        "        self.sigmoid = nn.Sigmoid()\n",
        "\n",
        "    def forward(self, x):\n",
        "        out = self.fc1(x)\n",
        "        out = self.relu(out)\n",
        "        out = self.fc2(out)\n",
        "        out = self.lrelu(out)\n",
        "        out = self.fc3(out)\n",
        "        out = self.sigmoid(out)\n",
        "        return out"
      ],
      "metadata": {
        "id": "zC8r4LW0BRDE"
      },
      "execution_count": null,
      "outputs": []
    },
    {
      "cell_type": "code",
      "source": [
        "def generate_dataset(dataset):\n",
        "    data = []\n",
        "    df = dataset['Data']\n",
        "    df['Norm'] = df.apply(lambda row: norm(float(row[1]), float(row[2]), float(row[3])), axis =1)\n",
        "    steps = dataset['Steps']\n",
        "    act = dataset['Activity']\n",
        "    slices = np.arange(0, len(df), 7)\n",
        "    for sliver in slices:\n",
        "      if (sliver + 7) > len(df):\n",
        "        continue\n",
        "      sliver = df.loc[sliver:sliver+6]\n",
        "      acc = np.array(sliver.iloc[:, [1, 2, 3, 4]].values, dtype='float32')\n",
        "      flat = torch.tensor(acc.reshape(1, -1))\n",
        "      data.append(flat)\n",
        "    stacked = torch.stack(data).to(torch.float32)\n",
        "    label_tensor = torch.ones(stacked.shape[0])\n",
        "    final_dataset = TensorDataset(stacked, label_tensor)\n",
        "    return final_dataset, stacked.shape[0]"
      ],
      "metadata": {
        "id": "ila2I1RBPHE9"
      },
      "execution_count": null,
      "outputs": []
    },
    {
      "cell_type": "markdown",
      "source": [
        "##Model"
      ],
      "metadata": {
        "id": "QavlS9ZN_2pf"
      }
    },
    {
      "cell_type": "code",
      "source": [
        "zip_path = '/content/drive/MyDrive/University/data_set.zip'\n",
        "data = process_raw(zip_path)"
      ],
      "metadata": {
        "colab": {
          "base_uri": "https://localhost:8080/"
        },
        "id": "Et71gdg8A165",
        "outputId": "3fe44ce7-e74b-44ac-9f39-1c490277f9df"
      },
      "execution_count": null,
      "outputs": [
        {
          "output_type": "stream",
          "name": "stdout",
          "text": [
            "There are 243 files in the dataset\n"
          ]
        }
      ]
    },
    {
      "cell_type": "code",
      "source": [
        "model = pickle.load(open('activity_net.pkl', 'rb'))"
      ],
      "metadata": {
        "id": "-bjlNLwpa7R-"
      },
      "execution_count": null,
      "outputs": []
    },
    {
      "cell_type": "code",
      "source": [
        "data[0]['Activity']"
      ],
      "metadata": {
        "colab": {
          "base_uri": "https://localhost:8080/"
        },
        "id": "OvWmVILLCDsO",
        "outputId": "3f4f42be-71cc-478f-d0e8-55432f34f400"
      },
      "execution_count": null,
      "outputs": [
        {
          "output_type": "execute_result",
          "data": {
            "text/plain": [
              "1"
            ]
          },
          "metadata": {},
          "execution_count": 33
        }
      ]
    },
    {
      "cell_type": "code",
      "source": [
        "outcomes = []\n",
        "for dataset in data.values():\n",
        "    testset, batch_size = generate_dataset(dataset)\n",
        "    true_label = dataset['Activity']\n",
        "    dataloader = DataLoader(testset, batch_size=batch_size, shuffle=True)\n",
        "    device = torch.device(\"cuda\" if torch.cuda.is_available() else \"cpu\")\n",
        "\n",
        "\n",
        "    model.eval()\n",
        "    with torch.no_grad():\n",
        "      for batch in dataloader:\n",
        "          batch_tensor, batch_labels = batch\n",
        "          batch_tensor = batch_tensor.to(device)\n",
        "          batch_labels = batch_labels.to(device)\n",
        "          output = model(batch_tensor)\n",
        "          predicted_class = torch.round(output).squeeze(dim=1)\n",
        "          final_pred = 0 if predicted_class.mean() < 0.5 else 1\n",
        "          acc = 1 if final_pred == true_label else 0\n",
        "          activity = 'Walking' if final_pred == 0 else 'Running'\n",
        "    outcomes.append(acc)"
      ],
      "metadata": {
        "id": "HdSULl5zLlXk"
      },
      "execution_count": null,
      "outputs": []
    },
    {
      "cell_type": "code",
      "source": [
        "print(f'Final Accuracy: {sum(outcomes)/len(outcomes)}')"
      ],
      "metadata": {
        "colab": {
          "base_uri": "https://localhost:8080/"
        },
        "id": "9bUpqCz3EjZs",
        "outputId": "03075803-9ee1-43d2-f81d-b6db315dd4c3"
      },
      "execution_count": null,
      "outputs": [
        {
          "output_type": "stream",
          "name": "stdout",
          "text": [
            "Final Accuracy: 0.9835390946502057\n"
          ]
        }
      ]
    },
    {
      "cell_type": "markdown",
      "source": [
        "# 3. Model for Counting Steps - Training"
      ],
      "metadata": {
        "id": "b-5Ec4PpVp-h"
      }
    },
    {
      "cell_type": "markdown",
      "source": [
        "## Setup"
      ],
      "metadata": {
        "id": "Dsk9MiHxPJCK"
      }
    },
    {
      "cell_type": "markdown",
      "source": [
        "### Imports"
      ],
      "metadata": {
        "id": "j9ULu-JKPXLw"
      }
    },
    {
      "cell_type": "code",
      "source": [
        "!pip install scikit-optimize"
      ],
      "metadata": {
        "colab": {
          "base_uri": "https://localhost:8080/"
        },
        "id": "q7dNm7G0y6Rb",
        "outputId": "8ccfbb90-1afe-4688-8186-8abe5a733999"
      },
      "execution_count": null,
      "outputs": [
        {
          "output_type": "stream",
          "name": "stdout",
          "text": [
            "Collecting scikit-optimize\n",
            "  Downloading scikit_optimize-0.9.0-py2.py3-none-any.whl (100 kB)\n",
            "\u001b[?25l     \u001b[90m━━━━━━━━━━━━━━━━━━━━━━━━━━━━━━━━━━━━━━━━\u001b[0m \u001b[32m0.0/100.3 kB\u001b[0m \u001b[31m?\u001b[0m eta \u001b[36m-:--:--\u001b[0m\r\u001b[2K     \u001b[90m━━━━━━━━━━━━━━━━━━━━━━━━━━━━━━━━━━━━━━━\u001b[0m \u001b[32m100.3/100.3 kB\u001b[0m \u001b[31m4.5 MB/s\u001b[0m eta \u001b[36m0:00:00\u001b[0m\n",
            "\u001b[?25hRequirement already satisfied: joblib>=0.11 in /usr/local/lib/python3.10/dist-packages (from scikit-optimize) (1.2.0)\n",
            "Collecting pyaml>=16.9 (from scikit-optimize)\n",
            "  Downloading pyaml-23.7.0-py3-none-any.whl (17 kB)\n",
            "Requirement already satisfied: numpy>=1.13.3 in /usr/local/lib/python3.10/dist-packages (from scikit-optimize) (1.22.4)\n",
            "Requirement already satisfied: scipy>=0.19.1 in /usr/local/lib/python3.10/dist-packages (from scikit-optimize) (1.10.1)\n",
            "Requirement already satisfied: scikit-learn>=0.20.0 in /usr/local/lib/python3.10/dist-packages (from scikit-optimize) (1.2.2)\n",
            "Requirement already satisfied: PyYAML in /usr/local/lib/python3.10/dist-packages (from pyaml>=16.9->scikit-optimize) (6.0)\n",
            "Requirement already satisfied: threadpoolctl>=2.0.0 in /usr/local/lib/python3.10/dist-packages (from scikit-learn>=0.20.0->scikit-optimize) (3.1.0)\n",
            "Installing collected packages: pyaml, scikit-optimize\n",
            "Successfully installed pyaml-23.7.0 scikit-optimize-0.9.0\n"
          ]
        }
      ]
    },
    {
      "cell_type": "code",
      "source": [
        "import numpy as np\n",
        "import pandas as pd\n",
        "from sklearn.model_selection import train_test_split,  GridSearchCV, RandomizedSearchCV\n",
        "from sklearn.preprocessing import StandardScaler\n",
        "from sklearn.linear_model import LinearRegression\n",
        "from sklearn.metrics import mean_squared_error, mean_absolute_error, r2_score\n",
        "from sklearn.ensemble import RandomForestRegressor\n",
        "import xgboost as xgb\n",
        "from scipy.stats import randint, uniform\n",
        "from skopt import BayesSearchCV\n",
        "from scipy.stats import randint, uniform"
      ],
      "metadata": {
        "id": "JKTmR31EX5wX"
      },
      "execution_count": null,
      "outputs": []
    },
    {
      "cell_type": "code",
      "source": [
        "dataframes = []\n",
        "for dataset in datasets.values():\n",
        "    steps = dataset['Steps']\n",
        "    act = dataset['Activity']\n",
        "    df = dataset['Data']\n",
        "    new_df = pd.DataFrame()\n",
        "    new_df['X'] = df.iloc[:,1]\n",
        "    new_df['Y'] = df.iloc[:,2]\n",
        "    new_df['Z'] = df.iloc[:,3]\n",
        "    new_df['N'] = df.iloc[:,4]\n",
        "    new_df['act'] = np.repeat(act, len(df))\n",
        "    new_df['steps'] = np.repeat(steps, len(df))\n",
        "    dataframes.append(new_df)"
      ],
      "metadata": {
        "id": "xVaDy7MN-rKl"
      },
      "execution_count": null,
      "outputs": []
    },
    {
      "cell_type": "markdown",
      "source": [
        "### Data"
      ],
      "metadata": {
        "id": "TCHT2laUPO0Y"
      }
    },
    {
      "cell_type": "code",
      "source": [
        "data = pd.concat(dataframes, ignore_index=True)\n",
        "data = data.dropna()"
      ],
      "metadata": {
        "id": "Ei1YNgMrd7kw"
      },
      "execution_count": null,
      "outputs": []
    },
    {
      "cell_type": "code",
      "source": [
        "X_combined = data[['X', 'Y', 'Z', 'N', 'act']]\n",
        "y = data['steps']\n",
        "\n",
        "scaler = StandardScaler()\n",
        "X_combined_scaled = scaler.fit_transform(X_combined)\n",
        "\n",
        "X_train_full, X_test_full, y_train_full, y_test_full = train_test_split(X_combined_scaled, y, test_size=0.2, random_state=42)"
      ],
      "metadata": {
        "id": "dDvhDQAeX9Yv"
      },
      "execution_count": null,
      "outputs": []
    },
    {
      "cell_type": "markdown",
      "source": [
        "### Feature Extraction"
      ],
      "metadata": {
        "id": "MPJPN2tBPvqi"
      }
    },
    {
      "cell_type": "code",
      "source": [
        "def extract_features(data):\n",
        "    features = {}\n",
        "\n",
        "    # Statistical features\n",
        "    features['mean'] = data.mean()\n",
        "    features['std'] = data.std()\n",
        "    features['min'] = data.min()\n",
        "    features['max'] = data.max()\n",
        "    features['range'] = data.max() - data.min()\n",
        "\n",
        "    # Frequency domain features (using Fourier transform)\n",
        "    fft_data = np.fft.fft(data)\n",
        "    power_spectrum = np.abs(fft_data) ** 2\n",
        "    features['power_spectrum_mean'] = power_spectrum.mean()\n",
        "    features['power_spectrum_std'] = power_spectrum.std()\n",
        "\n",
        "    features['custom_feature'] = data.sum() * data.std()\n",
        "\n",
        "    return features"
      ],
      "metadata": {
        "id": "NmTlhxwXfKg0"
      },
      "execution_count": null,
      "outputs": []
    },
    {
      "cell_type": "code",
      "source": [
        "extracted_features_list = []\n",
        "y = []\n",
        "for dataset in datasets.values():\n",
        "    aggregated_features = {}\n",
        "    df = dataset['Data'].astype(float)\n",
        "\n",
        "    for axis in [1, 2, 3, 4]:\n",
        "        axis_data = df.iloc[:,axis]\n",
        "        axis_features = extract_features(axis_data)\n",
        "\n",
        "        axis_features = {f'{axis}_{feature}': value for feature, value in axis_features.items()}\n",
        "\n",
        "        aggregated_features.update(axis_features)\n",
        "\n",
        "    aggregated_features['Act'] = dataset['Activity']\n",
        "    y.append(dataset['Steps'])\n",
        "    extracted_features_list.append(aggregated_features)\n",
        "\n",
        "combined_df = pd.DataFrame(extracted_features_list)"
      ],
      "metadata": {
        "id": "-kgg4mf5fTzG"
      },
      "execution_count": null,
      "outputs": []
    },
    {
      "cell_type": "code",
      "source": [
        "nan_indices = combined_df.index[combined_df.isnull().any(axis=1)].tolist()\n",
        "nan_indices"
      ],
      "metadata": {
        "colab": {
          "base_uri": "https://localhost:8080/"
        },
        "id": "JdBiBlUch6F1",
        "outputId": "ab225dc5-cc48-44b0-8da0-e247e9dbf2cd"
      },
      "execution_count": null,
      "outputs": [
        {
          "output_type": "execute_result",
          "data": {
            "text/plain": [
              "[20]"
            ]
          },
          "metadata": {},
          "execution_count": 70
        }
      ]
    },
    {
      "cell_type": "code",
      "source": [
        "combined_df = combined_df.dropna()\n",
        "del y[20]"
      ],
      "metadata": {
        "id": "Yp2_31iejmNF"
      },
      "execution_count": null,
      "outputs": []
    },
    {
      "cell_type": "markdown",
      "source": [
        "## Model Tryouts"
      ],
      "metadata": {
        "id": "G_kK4wHwPZ9C"
      }
    },
    {
      "cell_type": "markdown",
      "source": [
        "### OLS - Entire Dataset"
      ],
      "metadata": {
        "id": "Gg4m6u1gPhuR"
      }
    },
    {
      "cell_type": "code",
      "source": [
        "model = LinearRegression()\n",
        "\n",
        "model.fit(X_train_full, y_train_full)\n",
        "y_pred = model.predict(X_test_full)\n",
        "\n",
        "mse = mean_squared_error(y_test_full, y_pred)\n",
        "mae = mean_absolute_error(y_test_full, y_pred)\n",
        "r2 = r2_score(y_test_full, y_pred)\n",
        "\n",
        "print(\"Mean Squared Error:\", mse)\n",
        "print(\"Mean Absolute Error:\", mae)\n",
        "print(\"R-squared:\", r2)"
      ],
      "metadata": {
        "colab": {
          "base_uri": "https://localhost:8080/"
        },
        "id": "CShIuFIpe14T",
        "outputId": "caef5a5c-9973-4db7-8c11-60ad32e3ebc1"
      },
      "execution_count": null,
      "outputs": [
        {
          "output_type": "stream",
          "name": "stdout",
          "text": [
            "Mean Squared Error: 805.8250071508819\n",
            "Mean Absolute Error: 20.3566615709344\n",
            "R-squared: 0.2784662521954616\n"
          ]
        }
      ]
    },
    {
      "cell_type": "markdown",
      "source": [
        "### OLS"
      ],
      "metadata": {
        "id": "Jm3npGZDPzDy"
      }
    },
    {
      "cell_type": "code",
      "source": [
        "scaler = StandardScaler()\n",
        "X_combined_scaled = scaler.fit_transform(combined_df)\n",
        "\n",
        "X_train, X_test, y_train, y_test = train_test_split(X_combined_scaled, y, test_size=0.2, random_state=42)\n",
        "\n",
        "model = LinearRegression()\n",
        "model.fit(X_train, y_train)\n",
        "y_pred = model.predict(X_test)\n",
        "\n",
        "mse = mean_squared_error(y_test, y_pred)\n",
        "mae = mean_absolute_error(y_test, y_pred)\n",
        "r2 = r2_score(y_test, y_pred)\n",
        "\n",
        "print(\"Mean Squared Error:\", mse)\n",
        "print(\"Mean Absolute Error:\", mae)\n",
        "print(\"R-squared:\", r2)\n",
        "\n",
        "new_data = X_combined_scaled[235:] # not really new, just want to see the outcome\n",
        "new_predictions = model.predict(new_data)\n",
        "real_preds = y[235:]\n",
        "for i in range(len(new_data)):\n",
        "    print(f'True: {real_preds[i]}, Pred: {new_predictions[i]}')"
      ],
      "metadata": {
        "colab": {
          "base_uri": "https://localhost:8080/"
        },
        "id": "UxtSChf_hmNI",
        "outputId": "3924ba5b-c9f7-4e7c-bcfe-383206154b35"
      },
      "execution_count": null,
      "outputs": [
        {
          "output_type": "stream",
          "name": "stdout",
          "text": [
            "Mean Squared Error: 546.9096214407115\n",
            "Mean Absolute Error: 18.96399722045868\n",
            "R-squared: 0.6439390485412034\n",
            "True: 163, Pred: 141.9005010665283\n",
            "True: 158, Pred: 137.2659753278718\n",
            "True: 117, Pred: 97.92668835642704\n",
            "True: 112, Pred: 93.78262687577822\n",
            "True: 114, Pred: 94.37314405675002\n",
            "True: 115, Pred: 90.00990130669393\n",
            "True: 124, Pred: 86.00432588123672\n"
          ]
        }
      ]
    },
    {
      "cell_type": "markdown",
      "source": [
        "### Random Forest"
      ],
      "metadata": {
        "id": "zWG1whu_RG_y"
      }
    },
    {
      "cell_type": "code",
      "source": [
        "X_train, X_test, y_train, y_test = train_test_split(combined_df, y, test_size=0.2, random_state=42)\n",
        "\n",
        "model = RandomForestRegressor()\n",
        "model.fit(X_train, y_train)\n",
        "y_pred = model.predict(X_test)\n",
        "\n",
        "mse = mean_squared_error(y_test, y_pred)\n",
        "mae = mean_absolute_error(y_test, y_pred)\n",
        "r2 = r2_score(y_test, y_pred)\n",
        "\n",
        "print(\"Mean Squared Error:\", mse)\n",
        "print(\"Mean Absolute Error:\", mae)\n",
        "print(\"R-squared:\", r2)"
      ],
      "metadata": {
        "colab": {
          "base_uri": "https://localhost:8080/"
        },
        "id": "Ak-t5yifogqO",
        "outputId": "3fe190d8-1597-4edd-8b3a-3a7ad2244039"
      },
      "execution_count": null,
      "outputs": [
        {
          "output_type": "stream",
          "name": "stdout",
          "text": [
            "Mean Squared Error: 227.48466530612242\n",
            "Mean Absolute Error: 10.610612244897958\n",
            "R-squared: 0.8518980043579932\n"
          ]
        }
      ]
    },
    {
      "cell_type": "markdown",
      "source": [
        "### XGBoost"
      ],
      "metadata": {
        "id": "9l3Sfw6rRPND"
      }
    },
    {
      "cell_type": "code",
      "source": [
        "X_train, X_test, y_train, y_test = train_test_split(combined_df, y, test_size=0.2, random_state=42)\n",
        "\n",
        "model = xgb.XGBRegressor()\n",
        "model.fit(X_train, y_train)\n",
        "y_pred = model.predict(X_test)\n",
        "\n",
        "mse = mean_squared_error(y_test, y_pred)\n",
        "mae = mean_absolute_error(y_test, y_pred)\n",
        "r2 = r2_score(y_test, y_pred)\n",
        "\n",
        "print(\"Mean Squared Error:\", mse)\n",
        "print(\"Mean Absolute Error:\", mae)\n",
        "print(\"R-squared:\", r2)"
      ],
      "metadata": {
        "colab": {
          "base_uri": "https://localhost:8080/"
        },
        "id": "7ulFkI4qo7HU",
        "outputId": "b3622776-335f-445d-dfc1-92a17e4bb029"
      },
      "execution_count": null,
      "outputs": [
        {
          "output_type": "stream",
          "name": "stdout",
          "text": [
            "Mean Squared Error: 189.21445601512966\n",
            "Mean Absolute Error: 10.162956354569415\n",
            "R-squared: 0.8768135051984833\n"
          ]
        }
      ]
    },
    {
      "cell_type": "markdown",
      "source": [
        "### Neural Network"
      ],
      "metadata": {
        "id": "g9s6O_daSVVj"
      }
    },
    {
      "cell_type": "code",
      "source": [
        "import torch.nn as nn\n",
        "import torch.optim as optim\n",
        "from torch.utils.data import DataLoader, TensorDataset\n",
        "from sklearn.model_selection import train_test_split\n",
        "from sklearn.preprocessing import StandardScaler\n",
        "from sklearn.metrics import mean_squared_error, mean_absolute_error, r2_score"
      ],
      "metadata": {
        "id": "NWxQ9P5stsuA"
      },
      "execution_count": null,
      "outputs": []
    },
    {
      "cell_type": "code",
      "source": [
        "X_train, X_test, y_train, y_test = train_test_split(combined_df, y, test_size=0.2, random_state=42)\n",
        "\n",
        "scaler = StandardScaler()\n",
        "X_train_scaled = scaler.fit_transform(X_train)\n",
        "X_test_scaled = scaler.transform(X_test)\n",
        "\n",
        "X_train_tensor = torch.tensor(X_train_scaled, dtype=torch.float32)\n",
        "y_train_tensor = torch.tensor(y_train, dtype=torch.float32).unsqueeze(1)\n",
        "X_test_tensor = torch.tensor(X_test_scaled, dtype=torch.float32)\n",
        "y_test_tensor = torch.tensor(y_test, dtype=torch.float32).unsqueeze(1)\n",
        "\n",
        "train_dataset = TensorDataset(X_train_tensor, y_train_tensor)\n",
        "test_dataset = TensorDataset(X_test_tensor, y_test_tensor)"
      ],
      "metadata": {
        "id": "ozS_QWM_t8MY"
      },
      "execution_count": null,
      "outputs": []
    },
    {
      "cell_type": "code",
      "source": [
        "class NeuralNet(nn.Module):\n",
        "    def __init__(self, input_dim):\n",
        "        super(NeuralNet, self).__init__()\n",
        "        self.fc1 = nn.Linear(input_dim, 64)\n",
        "        self.fc2 = nn.Linear(64, 32)\n",
        "        self.fc3 = nn.Linear(32, 16)\n",
        "        self.fc4 = nn.Linear(16, 1)\n",
        "        self.relu = nn.ReLU()\n",
        "\n",
        "    def forward(self, x):\n",
        "        x = self.relu(self.fc1(x))\n",
        "        x = self.relu(self.fc2(x))\n",
        "        x = self.relu(self.fc3(x))\n",
        "        x = self.fc4(x)\n",
        "        return x"
      ],
      "metadata": {
        "id": "w0N6cox5uSc4"
      },
      "execution_count": null,
      "outputs": []
    },
    {
      "cell_type": "code",
      "source": [
        "model = NeuralNet(X_train.shape[1])\n",
        "\n",
        "criterion = nn.MSELoss()\n",
        "optimizer = optim.Adam(model.parameters())\n",
        "\n",
        "batch_size = 32\n",
        "train_loader = DataLoader(train_dataset, batch_size=batch_size, shuffle=True)\n",
        "test_loader = DataLoader(test_dataset, batch_size=batch_size)\n",
        "\n",
        "epochs = 200\n",
        "for epoch in range(epochs):\n",
        "    model.train()\n",
        "    running_loss = 0.0\n",
        "    for inputs, labels in train_loader:\n",
        "        optimizer.zero_grad()\n",
        "        outputs = model(inputs)\n",
        "        loss = criterion(outputs, labels)\n",
        "        loss.backward()\n",
        "        optimizer.step()\n",
        "        running_loss += loss.item() * inputs.size(0)\n",
        "    epoch_loss = running_loss / len(train_dataset)\n",
        "    if (epoch+1)%10 == 0:\n",
        "      print(f\"Epoch {epoch+1}/{epochs}, Loss: {epoch_loss:.4f}\")\n",
        "\n",
        "model.eval()\n",
        "with torch.no_grad():\n",
        "    y_pred = model(X_test_tensor)\n",
        "\n",
        "mse = mean_squared_error(y_test_tensor, y_pred)\n",
        "mae = mean_absolute_error(y_test_tensor, y_pred)\n",
        "r2 = r2_score(y_test_tensor, y_pred)\n",
        "\n",
        "print(\"\")\n",
        "print(\"Mean Squared Error:\", mse.item())\n",
        "print(\"Mean Absolute Error:\", mae.item())\n",
        "print(\"R-squared:\", r2)"
      ],
      "metadata": {
        "colab": {
          "base_uri": "https://localhost:8080/"
        },
        "id": "42NV0hw2uTxx",
        "outputId": "1d85ed3d-6e0c-4e50-998e-f38eec885b20"
      },
      "execution_count": null,
      "outputs": [
        {
          "output_type": "stream",
          "name": "stdout",
          "text": [
            "Epoch 10/200, Loss: 13239.4973\n",
            "Epoch 20/200, Loss: 2368.2744\n",
            "Epoch 30/200, Loss: 1182.1003\n",
            "Epoch 40/200, Loss: 1103.1945\n",
            "Epoch 50/200, Loss: 1066.5291\n",
            "Epoch 60/200, Loss: 1015.3925\n",
            "Epoch 70/200, Loss: 986.9539\n",
            "Epoch 80/200, Loss: 965.1610\n",
            "Epoch 90/200, Loss: 989.3163\n",
            "Epoch 100/200, Loss: 970.6561\n",
            "Epoch 110/200, Loss: 919.1332\n",
            "Epoch 120/200, Loss: 898.8565\n",
            "Epoch 130/200, Loss: 904.4056\n",
            "Epoch 140/200, Loss: 896.2764\n",
            "Epoch 150/200, Loss: 860.1638\n",
            "Epoch 160/200, Loss: 877.5510\n",
            "Epoch 170/200, Loss: 859.2656\n",
            "Epoch 180/200, Loss: 844.9027\n",
            "Epoch 190/200, Loss: 842.0821\n",
            "Epoch 200/200, Loss: 874.0421\n",
            "\n",
            "Mean Squared Error: 825.6380004882812\n",
            "Mean Absolute Error: 23.128437042236328\n",
            "R-squared: 0.46247526871211775\n"
          ]
        }
      ]
    },
    {
      "cell_type": "markdown",
      "source": [
        "## Hyperparameter Tuning"
      ],
      "metadata": {
        "id": "qOiERq6OSDyt"
      }
    },
    {
      "cell_type": "markdown",
      "source": [
        "### Grid Search"
      ],
      "metadata": {
        "id": "kpPQmI_oSII1"
      }
    },
    {
      "cell_type": "code",
      "source": [
        "X_train, X_test, y_train, y_test = train_test_split(combined_df, y, test_size=0.2, random_state=42)\n",
        "\n",
        "param_grid = {\n",
        "    'n_estimators': [100, 250, 300, 500, 750],\n",
        "    'learning_rate': [0.1, 0.05, 0.01, 0.001],\n",
        "    'max_depth': [2, 3, 5, 7, 10]}\n",
        "\n",
        "model = xgb.XGBRegressor()\n",
        "grid_search = GridSearchCV(estimator=model, param_grid=param_grid, cv=5, scoring='neg_mean_squared_error')\n",
        "grid_search.fit(X_train, y_train)\n",
        "\n",
        "\n",
        "best_model_grid = grid_search.best_estimator_\n",
        "y_pred_grid = best_model_grid.predict(X_test)\n",
        "\n",
        "mse = mean_squared_error(y_test, y_pred_grid)\n",
        "mae = mean_absolute_error(y_test, y_pred_grid)\n",
        "r2 = r2_score(y_test, y_pred_grid)\n",
        "\n",
        "print(\"Mean Squared Error:\", mse)\n",
        "print(\"Mean Absolute Error:\", mae)\n",
        "print(\"R-squared:\", r2)\n",
        "print(\"Best Hyperparameters:\", grid_search.best_params_)"
      ],
      "metadata": {
        "colab": {
          "base_uri": "https://localhost:8080/"
        },
        "id": "U6ggV-VOpQa2",
        "outputId": "55fd8600-8f76-488b-a5f1-2c3775227a09"
      },
      "execution_count": null,
      "outputs": [
        {
          "output_type": "stream",
          "name": "stdout",
          "text": [
            "Mean Squared Error: 169.32762479763522\n",
            "Mean Absolute Error: 9.193273388609594\n",
            "R-squared: 0.8897606609390396\n",
            "Best Hyperparameters: {'learning_rate': 0.1, 'max_depth': 3, 'n_estimators': 750}\n"
          ]
        }
      ]
    },
    {
      "cell_type": "markdown",
      "source": [
        "### Random Search"
      ],
      "metadata": {
        "id": "YhRZ51GqSMke"
      }
    },
    {
      "cell_type": "code",
      "source": [
        "param_dist = {\n",
        "    'n_estimators': randint(100, 1000),\n",
        "    'learning_rate': uniform(0.01, 0.3),\n",
        "    'max_depth': randint(3, 10)}\n",
        "\n",
        "\n",
        "model = xgb.XGBRegressor()\n",
        "random_search = RandomizedSearchCV(estimator=model, param_distributions=param_dist, n_iter=10, cv=5,\n",
        "                                   scoring='neg_mean_squared_error', random_state=42)\n",
        "random_search.fit(X_train, y_train)\n",
        "best_model_rand = random_search.best_estimator_\n",
        "y_pred_rand = best_model_rand.predict(X_test)\n",
        "\n",
        "mse = mean_squared_error(y_test, y_pred_rand)\n",
        "mae = mean_absolute_error(y_test, y_pred_rand)\n",
        "r2 = r2_score(y_test, y_pred_rand)\n",
        "\n",
        "print(\"Mean Squared Error:\", mse)\n",
        "print(\"Mean Absolute Error:\", mae)\n",
        "print(\"R-squared:\", r2)\n",
        "print(\"Best Hyperparameters:\", random_search.best_params_)"
      ],
      "metadata": {
        "colab": {
          "base_uri": "https://localhost:8080/"
        },
        "id": "F4ECfwCFzPmc",
        "outputId": "d05f34ba-332f-43c6-d68b-913a34351445"
      },
      "execution_count": null,
      "outputs": [
        {
          "output_type": "stream",
          "name": "stdout",
          "text": [
            "Mean Squared Error: 142.3514344745719\n",
            "Mean Absolute Error: 8.4865218960509\n",
            "R-squared: 0.907323284847284\n",
            "Best Hyperparameters: {'learning_rate': 0.16743239807751675, 'max_depth': 9, 'n_estimators': 781}\n"
          ]
        }
      ]
    },
    {
      "cell_type": "markdown",
      "source": [
        "### Bayesian Search"
      ],
      "metadata": {
        "id": "CWnG_aBqTS1I"
      }
    },
    {
      "cell_type": "code",
      "source": [
        "param_space = {\n",
        "    'n_estimators': (100, 1000),\n",
        "    'learning_rate': (0.01, 0.3, 'log-uniform'),\n",
        "    'max_depth': (3, 10)}\n",
        "\n",
        "bayes_search = BayesSearchCV(estimator=model, search_spaces=param_space, n_iter=10, cv=5,\n",
        "                             scoring='neg_mean_squared_error', random_state=42)\n",
        "bayes_search.fit(X_train, y_train)\n",
        "best_model_bayes = bayes_search.best_estimator_\n",
        "y_pred_bayes = best_model_bayes.predict(X_test)\n",
        "\n",
        "mse = mean_squared_error(y_test, y_pred_bayes)\n",
        "mae = mean_absolute_error(y_test, y_pred_bayes)\n",
        "r2 = r2_score(y_test, y_pred_bayes)\n",
        "\n",
        "print(\"Mean Squared Error:\", mse)\n",
        "print(\"Mean Absolute Error:\", mae)\n",
        "print(\"R-squared:\", r2)\n",
        "print(\"Best Hyperparameters:\", bayes_search.best_params_)"
      ],
      "metadata": {
        "colab": {
          "base_uri": "https://localhost:8080/"
        },
        "id": "U2ML4zakzqTp",
        "outputId": "506d5114-4353-45fd-ce58-de33f85b6ec1"
      },
      "execution_count": null,
      "outputs": [
        {
          "output_type": "stream",
          "name": "stdout",
          "text": [
            "Mean Squared Error: 156.57103013231645\n",
            "Mean Absolute Error: 8.822747444619937\n",
            "R-squared: 0.8980657355909398\n",
            "Best Hyperparameters: OrderedDict([('learning_rate', 0.15849201309311142), ('max_depth', 4), ('n_estimators', 638)])\n"
          ]
        }
      ]
    },
    {
      "cell_type": "markdown",
      "source": [
        "## Plots"
      ],
      "metadata": {
        "id": "7pXK08bdaG_3"
      }
    },
    {
      "cell_type": "code",
      "source": [
        "plt.figure(figsize=(8, 6))\n",
        "plt.scatter(y_test, y_pred_rand, color='b', alpha=0.5)\n",
        "plt.plot([np.min(y_test), np.max(y_test)], [np.min(y_test), np.max(y_test)], 'r--')\n",
        "plt.xlabel('True Values')\n",
        "plt.ylabel('Predicted Values')\n",
        "plt.title('True vs. Predicted Values')\n",
        "plt.show()"
      ],
      "metadata": {
        "colab": {
          "base_uri": "https://localhost:8080/",
          "height": 564
        },
        "id": "oP7Hd6hmaVXS",
        "outputId": "2a82b574-a071-4e4d-bffd-a971143f86a8"
      },
      "execution_count": null,
      "outputs": [
        {
          "output_type": "display_data",
          "data": {
            "text/plain": [
              "<Figure size 800x600 with 1 Axes>"
            ],
            "image/png": "[encoded data removed]"
          },
          "metadata": {}
        }
      ]
    },
    {
      "cell_type": "code",
      "source": [
        "residuals = y_pred_rand - y_test\n",
        "plt.figure(figsize=(8, 6))\n",
        "plt.scatter(y_pred_rand, residuals, color='b', alpha=0.5)\n",
        "plt.axhline(y=0, color='r', linestyle='--')\n",
        "plt.xlabel('Predicted Values')\n",
        "plt.ylabel('Residuals')\n",
        "plt.title('Residual Plot')\n",
        "plt.show()"
      ],
      "metadata": {
        "colab": {
          "base_uri": "https://localhost:8080/",
          "height": 564
        },
        "id": "JxmvI_Hyacg9",
        "outputId": "5a0b1751-1364-4034-f594-d26b2a470f46"
      },
      "execution_count": null,
      "outputs": [
        {
          "output_type": "display_data",
          "data": {
            "text/plain": [
              "<Figure size 800x600 with 1 Axes>"
            ],
            "image/png": "[encoded data removed]"
          },
          "metadata": {}
        }
      ]
    },
    {
      "cell_type": "code",
      "source": [
        "plt.figure(figsize=(8, 6))\n",
        "plt.hist(residuals, bins=20, color='b', alpha=0.5)\n",
        "plt.xlabel('Residuals')\n",
        "plt.ylabel('Frequency')\n",
        "plt.title('Histogram of Residuals')\n",
        "plt.show()"
      ],
      "metadata": {
        "colab": {
          "base_uri": "https://localhost:8080/",
          "height": 564
        },
        "id": "G4Eb_9JLaivE",
        "outputId": "3716befa-ff5c-4ff7-d6bd-0d6082f3cbf9"
      },
      "execution_count": null,
      "outputs": [
        {
          "output_type": "display_data",
          "data": {
            "text/plain": [
              "<Figure size 800x600 with 1 Axes>"
            ],
            "image/png": "[encoded data removed]"
          },
          "metadata": {}
        }
      ]
    },
    {
      "cell_type": "markdown",
      "source": [
        "# 4. Model for Counting Steps\n",
        "\n",
        "> Recieves a full csv as required by project\n",
        "\n"
      ],
      "metadata": {
        "id": "oEBI4S97dtRj"
      }
    },
    {
      "cell_type": "markdown",
      "source": [
        "## Imports"
      ],
      "metadata": {
        "id": "EFH-gniaeVeo"
      }
    },
    {
      "cell_type": "code",
      "source": [
        "import numpy as np\n",
        "import pandas as pd\n",
        "from sklearn.model_selection import train_test_split,  GridSearchCV, RandomizedSearchCV\n",
        "from sklearn.preprocessing import StandardScaler\n",
        "from sklearn.linear_model import LinearRegression\n",
        "from sklearn.metrics import mean_squared_error, mean_absolute_error, r2_score\n",
        "from sklearn.ensemble import RandomForestRegressor\n",
        "import xgboost as xgb\n",
        "from scipy.stats import randint, uniform\n",
        "from skopt import BayesSearchCV\n",
        "from scipy.stats import randint, uniform"
      ],
      "metadata": {
        "id": "ipS7-1gffAia"
      },
      "execution_count": 94,
      "outputs": []
    },
    {
      "cell_type": "markdown",
      "source": [
        "## Utilities"
      ],
      "metadata": {
        "id": "wQyrywAceZby"
      }
    },
    {
      "cell_type": "code",
      "source": [
        "def process_raw(zip_path):\n",
        "  count = 0\n",
        "  datasets = {}\n",
        "  with zipfile.ZipFile(zip_path, 'r') as z:\n",
        "    for file_name in z.namelist():\n",
        "      if file_name == '8_walk_4_3.csv':\n",
        "        continue\n",
        "      file_data = {}\n",
        "      count += 1\n",
        "      csv_data = z.read(file_name)\n",
        "\n",
        "      header = csv_data.decode().split('\\n')[:5]\n",
        "      header = [item.lower() for item in header]\n",
        "      header = [item.replace('\"', '') for item in header]\n",
        "      rows = csv_data.decode().split('\\n')[5:]\n",
        "      df = pd.read_csv(io.StringIO('\\n'.join(rows)))\n",
        "      activity = 0 if ('walk' in header[0] or 'walking' in header[2]) else 1\n",
        "      steps = int(header[3].split(',')[1])\n",
        "\n",
        "\n",
        "      file_data.update([('Name', file_name),('Data', df), ('Steps', steps), ('Activity', activity)])\n",
        "      exec(f\"datasets[{count-1}] = file_data\")\n",
        "  print(f'There are {count} files in the dataset')\n",
        "  problems = ['11_walk_5_1.csv', '6_run_3_1.csv', '6_run_4_1.csv','11_walk_1_1.csv', '11_walk_2_1.csv', '11_walk_3_1.csv', '6_walk_5_1.csv']\n",
        "  for dataset in datasets.values():\n",
        "    if dataset['Name'] in problems:\n",
        "      df = dataset['Data']\n",
        "      df = df.drop(0)\n",
        "      df = df.reset_index(drop=True)\n",
        "      dataset['Data'] = df\n",
        "    if dataset['Name'] == '16_run_3_1.csv':\n",
        "      df = dataset['Data']\n",
        "      df = df.drop(106)\n",
        "      df = df.reset_index(drop=True)\n",
        "      dataset['Data'] = df\n",
        "    if dataset['Name'] == '1_walk_4_1.csv':\n",
        "      df = dataset['Data']\n",
        "      df = df[:995]\n",
        "      df = df.reset_index(drop=True)\n",
        "      dataset['Data'] = df\n",
        "    if dataset['Name'] == '31_walk_2_1.csv':\n",
        "      df = dataset['Data']\n",
        "      df = df.drop(207)\n",
        "      df = df.reset_index(drop=True)\n",
        "      dataset['Data'] = df\n",
        "    if dataset['Name'] == '4_run_2_2.csv':\n",
        "      df = dataset['Data']\n",
        "      df = df.drop(185)\n",
        "      df = df.reset_index(drop=True)\n",
        "      dataset['Data'] = df\n",
        "    if dataset['Name'] == '4_walk_1_3.csv':\n",
        "      df = dataset['Data']\n",
        "      df = df.drop(368)\n",
        "      df = df.reset_index(drop=True)\n",
        "      dataset['Data'] = df\n",
        "    if dataset['Name'] == '4_walk_2_3.csv':\n",
        "      df = dataset['Data']\n",
        "      df = df.drop(95)\n",
        "      df = df.reset_index(drop=True)\n",
        "      dataset['Data'] = df\n",
        "    if dataset['Name'] == '4_walk_4_2.csv':\n",
        "      df = dataset['Data']\n",
        "      df = df.drop(599)\n",
        "      df = df.reset_index(drop=True)\n",
        "      dataset['Data'] = df\n",
        "    if dataset['Name'] == '4_walk_3_2.csv':\n",
        "      df = dataset['Data']\n",
        "      df = df.drop(39)\n",
        "      df = df.drop(41)\n",
        "      df = df.reset_index(drop=True)\n",
        "      dataset['Data'] = df\n",
        "    if dataset['Name'] == '5_run_3_1.csv':\n",
        "      df = dataset['Data']\n",
        "      df = df.drop(352)\n",
        "      df = df.reset_index(drop=True)\n",
        "      dataset['Data'] = df\n",
        "    if dataset['Name'] == '8_run_3_1.csv':\n",
        "      df = dataset['Data']\n",
        "      df = df.drop(264)\n",
        "      df = df.drop(605)\n",
        "      df = df.drop(606)\n",
        "      df = df.reset_index(drop=True)\n",
        "      dataset['Data'] = df\n",
        "    if dataset['Name'] == '8_run_3_1.csv':\n",
        "      df = dataset['Data']\n",
        "      df = df.drop(603)\n",
        "      df = df.drop(604)\n",
        "      df = df.drop(605)\n",
        "      df = df.reset_index(drop=True)\n",
        "      dataset['Data'] = df\n",
        "    df = dataset['Data']\n",
        "    df['Norm'] = df.apply(lambda row: norm(float(row[1]), float(row[2]), float(row[3])), axis =1)\n",
        "  return datasets"
      ],
      "metadata": {
        "id": "avivuWWifP2l"
      },
      "execution_count": 95,
      "outputs": []
    },
    {
      "cell_type": "code",
      "source": [
        "def extract_features(data):\n",
        "    features = {}\n",
        "\n",
        "    # Statistical features\n",
        "    features['mean'] = data.mean()\n",
        "    features['std'] = data.std()\n",
        "    features['min'] = data.min()\n",
        "    features['max'] = data.max()\n",
        "    features['range'] = data.max() - data.min()\n",
        "\n",
        "    # Frequency domain features (using Fourier transform)\n",
        "    fft_data = np.fft.fft(data)\n",
        "    power_spectrum = np.abs(fft_data) ** 2\n",
        "    features['power_spectrum_mean'] = power_spectrum.mean()\n",
        "    features['power_spectrum_std'] = power_spectrum.std()\n",
        "\n",
        "    features['custom_feature'] = data.sum() * data.std()\n",
        "\n",
        "    return features"
      ],
      "metadata": {
        "id": "c7lyVlN3fbGy"
      },
      "execution_count": 96,
      "outputs": []
    },
    {
      "cell_type": "code",
      "source": [
        "def combine_and_extract(datasets):\n",
        "    extracted_features_list = []\n",
        "    y = []\n",
        "    for dataset in datasets.values():\n",
        "        aggregated_features = {}\n",
        "        df = dataset['Data'].astype(float)\n",
        "\n",
        "        for axis in [1, 2, 3, 4]:\n",
        "            axis_data = df.iloc[:,axis]\n",
        "            axis_features = extract_features(axis_data)\n",
        "\n",
        "            axis_features = {f'{axis}_{feature}': value for feature, value in axis_features.items()}\n",
        "\n",
        "            aggregated_features.update(axis_features)\n",
        "\n",
        "        aggregated_features['Act'] = dataset['Activity']\n",
        "        y.append(dataset['Steps'])\n",
        "        extracted_features_list.append(aggregated_features)\n",
        "\n",
        "    combined_df = pd.DataFrame(extracted_features_list)\n",
        "    nan_indices = combined_df.index[combined_df.isnull().any(axis=1)].tolist()\n",
        "    combined_df = combined_df.dropna()\n",
        "    del y[nan_indices[0]]\n",
        "    return combined_df, y"
      ],
      "metadata": {
        "id": "5b-caufcffL3"
      },
      "execution_count": 97,
      "outputs": []
    },
    {
      "cell_type": "code",
      "source": [
        "def single_combine_and_extract(datasets):\n",
        "    extracted_features_list = []\n",
        "    y = []\n",
        "    aggregated_features = {}\n",
        "    df = dataset['Data'].astype(float)\n",
        "\n",
        "    for axis in [1, 2, 3, 4]:\n",
        "        axis_data = df.iloc[:,axis]\n",
        "        axis_features = extract_features(axis_data)\n",
        "\n",
        "        axis_features = {f'{axis}_{feature}': value for feature, value in axis_features.items()}\n",
        "\n",
        "        aggregated_features.update(axis_features)\n",
        "\n",
        "    aggregated_features['Act'] = dataset['Activity']\n",
        "    y.append(dataset['Steps'])\n",
        "    extracted_features_list.append(aggregated_features)\n",
        "\n",
        "    combined_df = pd.DataFrame(extracted_features_list)\n",
        "    combined_df = combined_df.dropna()\n",
        "    return combined_df, y"
      ],
      "metadata": {
        "id": "iBnOHg3yiiTD"
      },
      "execution_count": 115,
      "outputs": []
    },
    {
      "cell_type": "markdown",
      "source": [
        "## Model"
      ],
      "metadata": {
        "id": "RpxTpmqSeenb"
      }
    },
    {
      "cell_type": "code",
      "source": [
        "zip_path = '/content/drive/MyDrive/University/data_set.zip'\n",
        "data = process_raw(zip_path)\n",
        "combined_df, y = combine_and_extract(data)"
      ],
      "metadata": {
        "colab": {
          "base_uri": "https://localhost:8080/"
        },
        "id": "dRgx8Ub3gaWz",
        "outputId": "07c84288-1566-4b27-9ed6-fadd1716edb1"
      },
      "execution_count": 98,
      "outputs": [
        {
          "output_type": "stream",
          "name": "stdout",
          "text": [
            "There are 243 files in the dataset\n"
          ]
        }
      ]
    },
    {
      "cell_type": "code",
      "source": [
        "test_data, test_labels = single_combine_and_extract(data[50])"
      ],
      "metadata": {
        "id": "NGc-pD5thJWl"
      },
      "execution_count": 119,
      "outputs": []
    },
    {
      "cell_type": "code",
      "source": [
        "scaler = StandardScaler()\n",
        "data_scaled = scaler.fit_transform(combined_df)\n",
        "\n",
        "model = xgb.XGBRegressor(learning_rate=0.16743239807751675, max_depth=9, n_estimators=781)\n",
        "model.fit(combined_df, y)\n",
        "\n",
        "y_pred = model.predict(test_data)\n",
        "for i in range(len(test_labels)):\n",
        "  print(f'True: {test_labels[i]}, Predicted: {y_pred[i]}')\n",
        "\n",
        "mse = mean_squared_error(test_labels, y_pred)\n",
        "mae = mean_absolute_error(test_labels, y_pred)\n",
        "r2 = r2_score(test_labels, y_pred)\n",
        "\n",
        "print(\"\")\n",
        "print(\"Mean Squared Error:\", mse)\n",
        "print(\"Mean Absolute Error:\", mae)"
      ],
      "metadata": {
        "colab": {
          "base_uri": "https://localhost:8080/"
        },
        "id": "XW4k3mOEz0yI",
        "outputId": "ea62ce6f-58d4-42b9-cec3-b035ef210b41"
      },
      "execution_count": 120,
      "outputs": [
        {
          "output_type": "stream",
          "name": "stdout",
          "text": [
            "True: 124, Predicted: 123.99932098388672\n",
            "\n",
            "Mean Squared Error: 4.6106288209557533e-07\n",
            "Mean Absolute Error: 0.00067901611328125\n"
          ]
        },
        {
          "output_type": "stream",
          "name": "stderr",
          "text": [
            "/usr/local/lib/python3.10/dist-packages/sklearn/metrics/_regression.py:918: UndefinedMetricWarning: R^2 score is not well-defined with less than two samples.\n",
            "  warnings.warn(msg, UndefinedMetricWarning)\n"
          ]
        }
      ]
    }
  ]
}